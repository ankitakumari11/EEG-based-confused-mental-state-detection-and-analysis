{
 "cells": [
  {
   "cell_type": "code",
   "execution_count": 271,
   "id": "c013c8d8",
   "metadata": {},
   "outputs": [],
   "source": [
    "import numpy as np # linear algebra\n",
    "import pandas as pd\n",
    "\n",
    "import matplotlib.pyplot as plt\n",
    "import seaborn as sns\n",
    "\n",
    "from sklearn.preprocessing import StandardScaler\n",
    "from sklearn.model_selection import train_test_split\n",
    "from sklearn.metrics import accuracy_score\n",
    "import tensorflow as tf \n",
    "from sklearn.metrics import confusion_matrix,classification_report\n",
    "from sklearn.metrics import make_scorer,accuracy_score,precision_score,recall_score,f1_score"
   ]
  },
  {
   "cell_type": "markdown",
   "id": "63be236a",
   "metadata": {},
   "source": [
    "## Exploring the Dataset"
   ]
  },
  {
   "cell_type": "code",
   "execution_count": 272,
   "id": "cfd204b1",
   "metadata": {},
   "outputs": [],
   "source": [
    "sns.set(style='darkgrid',color_codes=True)\n",
    "%matplotlib inline"
   ]
  },
  {
   "cell_type": "code",
   "execution_count": 273,
   "id": "af182ecf",
   "metadata": {},
   "outputs": [
    {
     "data": {
      "text/html": [
       "<div>\n",
       "<style scoped>\n",
       "    .dataframe tbody tr th:only-of-type {\n",
       "        vertical-align: middle;\n",
       "    }\n",
       "\n",
       "    .dataframe tbody tr th {\n",
       "        vertical-align: top;\n",
       "    }\n",
       "\n",
       "    .dataframe thead th {\n",
       "        text-align: right;\n",
       "    }\n",
       "</style>\n",
       "<table border=\"1\" class=\"dataframe\">\n",
       "  <thead>\n",
       "    <tr style=\"text-align: right;\">\n",
       "      <th></th>\n",
       "      <th>SubjectID</th>\n",
       "      <th>VideoID</th>\n",
       "      <th>Attention</th>\n",
       "      <th>Mediation</th>\n",
       "      <th>Raw</th>\n",
       "      <th>Delta</th>\n",
       "      <th>Theta</th>\n",
       "      <th>Alpha1</th>\n",
       "      <th>Alpha2</th>\n",
       "      <th>Beta1</th>\n",
       "      <th>Beta2</th>\n",
       "      <th>Gamma1</th>\n",
       "      <th>Gamma2</th>\n",
       "      <th>predefinedlabel</th>\n",
       "      <th>user-definedlabeln</th>\n",
       "    </tr>\n",
       "  </thead>\n",
       "  <tbody>\n",
       "    <tr>\n",
       "      <th>0</th>\n",
       "      <td>0.0</td>\n",
       "      <td>0.0</td>\n",
       "      <td>56.0</td>\n",
       "      <td>43.0</td>\n",
       "      <td>278.0</td>\n",
       "      <td>302000.0</td>\n",
       "      <td>90600.0</td>\n",
       "      <td>33700.0</td>\n",
       "      <td>24000.0</td>\n",
       "      <td>27900.0</td>\n",
       "      <td>45100.0</td>\n",
       "      <td>33200.0</td>\n",
       "      <td>8290.0</td>\n",
       "      <td>0.0</td>\n",
       "      <td>0.0</td>\n",
       "    </tr>\n",
       "    <tr>\n",
       "      <th>1</th>\n",
       "      <td>0.0</td>\n",
       "      <td>0.0</td>\n",
       "      <td>40.0</td>\n",
       "      <td>35.0</td>\n",
       "      <td>-50.0</td>\n",
       "      <td>73800.0</td>\n",
       "      <td>28100.0</td>\n",
       "      <td>1440.0</td>\n",
       "      <td>2240.0</td>\n",
       "      <td>2750.0</td>\n",
       "      <td>3690.0</td>\n",
       "      <td>5290.0</td>\n",
       "      <td>2740.0</td>\n",
       "      <td>0.0</td>\n",
       "      <td>0.0</td>\n",
       "    </tr>\n",
       "    <tr>\n",
       "      <th>2</th>\n",
       "      <td>0.0</td>\n",
       "      <td>0.0</td>\n",
       "      <td>47.0</td>\n",
       "      <td>48.0</td>\n",
       "      <td>101.0</td>\n",
       "      <td>758000.0</td>\n",
       "      <td>384000.0</td>\n",
       "      <td>202000.0</td>\n",
       "      <td>62100.0</td>\n",
       "      <td>36300.0</td>\n",
       "      <td>131000.0</td>\n",
       "      <td>57200.0</td>\n",
       "      <td>25400.0</td>\n",
       "      <td>0.0</td>\n",
       "      <td>0.0</td>\n",
       "    </tr>\n",
       "    <tr>\n",
       "      <th>3</th>\n",
       "      <td>0.0</td>\n",
       "      <td>0.0</td>\n",
       "      <td>47.0</td>\n",
       "      <td>57.0</td>\n",
       "      <td>-5.0</td>\n",
       "      <td>2010000.0</td>\n",
       "      <td>129000.0</td>\n",
       "      <td>61200.0</td>\n",
       "      <td>17100.0</td>\n",
       "      <td>11500.0</td>\n",
       "      <td>62500.0</td>\n",
       "      <td>50000.0</td>\n",
       "      <td>33900.0</td>\n",
       "      <td>0.0</td>\n",
       "      <td>0.0</td>\n",
       "    </tr>\n",
       "    <tr>\n",
       "      <th>4</th>\n",
       "      <td>0.0</td>\n",
       "      <td>0.0</td>\n",
       "      <td>44.0</td>\n",
       "      <td>53.0</td>\n",
       "      <td>-8.0</td>\n",
       "      <td>1010000.0</td>\n",
       "      <td>354000.0</td>\n",
       "      <td>37100.0</td>\n",
       "      <td>88900.0</td>\n",
       "      <td>45300.0</td>\n",
       "      <td>99600.0</td>\n",
       "      <td>44800.0</td>\n",
       "      <td>29700.0</td>\n",
       "      <td>0.0</td>\n",
       "      <td>0.0</td>\n",
       "    </tr>\n",
       "  </tbody>\n",
       "</table>\n",
       "</div>"
      ],
      "text/plain": [
       "   SubjectID  VideoID  Attention  Mediation    Raw      Delta     Theta  \\\n",
       "0        0.0      0.0       56.0       43.0  278.0   302000.0   90600.0   \n",
       "1        0.0      0.0       40.0       35.0  -50.0    73800.0   28100.0   \n",
       "2        0.0      0.0       47.0       48.0  101.0   758000.0  384000.0   \n",
       "3        0.0      0.0       47.0       57.0   -5.0  2010000.0  129000.0   \n",
       "4        0.0      0.0       44.0       53.0   -8.0  1010000.0  354000.0   \n",
       "\n",
       "     Alpha1   Alpha2    Beta1     Beta2   Gamma1   Gamma2  predefinedlabel  \\\n",
       "0   33700.0  24000.0  27900.0   45100.0  33200.0   8290.0              0.0   \n",
       "1    1440.0   2240.0   2750.0    3690.0   5290.0   2740.0              0.0   \n",
       "2  202000.0  62100.0  36300.0  131000.0  57200.0  25400.0              0.0   \n",
       "3   61200.0  17100.0  11500.0   62500.0  50000.0  33900.0              0.0   \n",
       "4   37100.0  88900.0  45300.0   99600.0  44800.0  29700.0              0.0   \n",
       "\n",
       "   user-definedlabeln  \n",
       "0                 0.0  \n",
       "1                 0.0  \n",
       "2                 0.0  \n",
       "3                 0.0  \n",
       "4                 0.0  "
      ]
     },
     "execution_count": 273,
     "metadata": {},
     "output_type": "execute_result"
    }
   ],
   "source": [
    "eeg_data = pd.read_csv('Dataset/EEG_data.csv')\n",
    "info_data=pd.read_csv('Dataset/demographic_info.csv')\n",
    "eeg_data.head()"
   ]
  },
  {
   "cell_type": "code",
   "execution_count": 274,
   "id": "137a3f7a",
   "metadata": {},
   "outputs": [
    {
     "data": {
      "text/html": [
       "<div>\n",
       "<style scoped>\n",
       "    .dataframe tbody tr th:only-of-type {\n",
       "        vertical-align: middle;\n",
       "    }\n",
       "\n",
       "    .dataframe tbody tr th {\n",
       "        vertical-align: top;\n",
       "    }\n",
       "\n",
       "    .dataframe thead th {\n",
       "        text-align: right;\n",
       "    }\n",
       "</style>\n",
       "<table border=\"1\" class=\"dataframe\">\n",
       "  <thead>\n",
       "    <tr style=\"text-align: right;\">\n",
       "      <th></th>\n",
       "      <th>subject ID</th>\n",
       "      <th>age</th>\n",
       "      <th>ethnicity</th>\n",
       "      <th>gender</th>\n",
       "    </tr>\n",
       "  </thead>\n",
       "  <tbody>\n",
       "    <tr>\n",
       "      <th>0</th>\n",
       "      <td>0</td>\n",
       "      <td>25</td>\n",
       "      <td>Han Chinese</td>\n",
       "      <td>M</td>\n",
       "    </tr>\n",
       "    <tr>\n",
       "      <th>1</th>\n",
       "      <td>1</td>\n",
       "      <td>24</td>\n",
       "      <td>Han Chinese</td>\n",
       "      <td>M</td>\n",
       "    </tr>\n",
       "    <tr>\n",
       "      <th>2</th>\n",
       "      <td>2</td>\n",
       "      <td>31</td>\n",
       "      <td>English</td>\n",
       "      <td>M</td>\n",
       "    </tr>\n",
       "    <tr>\n",
       "      <th>3</th>\n",
       "      <td>3</td>\n",
       "      <td>28</td>\n",
       "      <td>Han Chinese</td>\n",
       "      <td>F</td>\n",
       "    </tr>\n",
       "    <tr>\n",
       "      <th>4</th>\n",
       "      <td>4</td>\n",
       "      <td>24</td>\n",
       "      <td>Bengali</td>\n",
       "      <td>M</td>\n",
       "    </tr>\n",
       "    <tr>\n",
       "      <th>5</th>\n",
       "      <td>5</td>\n",
       "      <td>24</td>\n",
       "      <td>Han Chinese</td>\n",
       "      <td>M</td>\n",
       "    </tr>\n",
       "    <tr>\n",
       "      <th>6</th>\n",
       "      <td>6</td>\n",
       "      <td>24</td>\n",
       "      <td>Han Chinese</td>\n",
       "      <td>M</td>\n",
       "    </tr>\n",
       "    <tr>\n",
       "      <th>7</th>\n",
       "      <td>7</td>\n",
       "      <td>25</td>\n",
       "      <td>Han Chinese</td>\n",
       "      <td>M</td>\n",
       "    </tr>\n",
       "    <tr>\n",
       "      <th>8</th>\n",
       "      <td>8</td>\n",
       "      <td>25</td>\n",
       "      <td>Han Chinese</td>\n",
       "      <td>M</td>\n",
       "    </tr>\n",
       "    <tr>\n",
       "      <th>9</th>\n",
       "      <td>9</td>\n",
       "      <td>24</td>\n",
       "      <td>Han Chinese</td>\n",
       "      <td>F</td>\n",
       "    </tr>\n",
       "  </tbody>\n",
       "</table>\n",
       "</div>"
      ],
      "text/plain": [
       "   subject ID   age    ethnicity  gender\n",
       "0           0    25  Han Chinese       M\n",
       "1           1    24  Han Chinese       M\n",
       "2           2    31      English       M\n",
       "3           3    28  Han Chinese       F\n",
       "4           4    24      Bengali       M\n",
       "5           5    24  Han Chinese       M\n",
       "6           6    24  Han Chinese       M\n",
       "7           7    25  Han Chinese       M\n",
       "8           8    25  Han Chinese       M\n",
       "9           9    24  Han Chinese       F"
      ]
     },
     "execution_count": 274,
     "metadata": {},
     "output_type": "execute_result"
    }
   ],
   "source": [
    "info_data"
   ]
  },
  {
   "cell_type": "code",
   "execution_count": 275,
   "id": "a4904509",
   "metadata": {},
   "outputs": [],
   "source": [
    "info_data.rename(columns={'subject ID':'SubjectID'},inplace=True)"
   ]
  },
  {
   "cell_type": "code",
   "execution_count": 276,
   "id": "399ea993",
   "metadata": {},
   "outputs": [],
   "source": [
    "info_data=info_data.merge(eeg_data,on='SubjectID')"
   ]
  },
  {
   "cell_type": "code",
   "execution_count": 277,
   "id": "086536fc",
   "metadata": {},
   "outputs": [
    {
     "data": {
      "text/html": [
       "<div>\n",
       "<style scoped>\n",
       "    .dataframe tbody tr th:only-of-type {\n",
       "        vertical-align: middle;\n",
       "    }\n",
       "\n",
       "    .dataframe tbody tr th {\n",
       "        vertical-align: top;\n",
       "    }\n",
       "\n",
       "    .dataframe thead th {\n",
       "        text-align: right;\n",
       "    }\n",
       "</style>\n",
       "<table border=\"1\" class=\"dataframe\">\n",
       "  <thead>\n",
       "    <tr style=\"text-align: right;\">\n",
       "      <th></th>\n",
       "      <th>SubjectID</th>\n",
       "      <th>age</th>\n",
       "      <th>ethnicity</th>\n",
       "      <th>gender</th>\n",
       "      <th>VideoID</th>\n",
       "      <th>Attention</th>\n",
       "      <th>Mediation</th>\n",
       "      <th>Raw</th>\n",
       "      <th>Delta</th>\n",
       "      <th>Theta</th>\n",
       "      <th>Alpha1</th>\n",
       "      <th>Alpha2</th>\n",
       "      <th>Beta1</th>\n",
       "      <th>Beta2</th>\n",
       "      <th>Gamma1</th>\n",
       "      <th>Gamma2</th>\n",
       "      <th>predefinedlabel</th>\n",
       "      <th>user-definedlabeln</th>\n",
       "    </tr>\n",
       "  </thead>\n",
       "  <tbody>\n",
       "    <tr>\n",
       "      <th>0</th>\n",
       "      <td>0</td>\n",
       "      <td>25</td>\n",
       "      <td>Han Chinese</td>\n",
       "      <td>M</td>\n",
       "      <td>0.0</td>\n",
       "      <td>56.0</td>\n",
       "      <td>43.0</td>\n",
       "      <td>278.0</td>\n",
       "      <td>302000.0</td>\n",
       "      <td>90600.0</td>\n",
       "      <td>33700.0</td>\n",
       "      <td>24000.0</td>\n",
       "      <td>27900.0</td>\n",
       "      <td>45100.0</td>\n",
       "      <td>33200.0</td>\n",
       "      <td>8290.0</td>\n",
       "      <td>0.0</td>\n",
       "      <td>0.0</td>\n",
       "    </tr>\n",
       "    <tr>\n",
       "      <th>1</th>\n",
       "      <td>0</td>\n",
       "      <td>25</td>\n",
       "      <td>Han Chinese</td>\n",
       "      <td>M</td>\n",
       "      <td>0.0</td>\n",
       "      <td>40.0</td>\n",
       "      <td>35.0</td>\n",
       "      <td>-50.0</td>\n",
       "      <td>73800.0</td>\n",
       "      <td>28100.0</td>\n",
       "      <td>1440.0</td>\n",
       "      <td>2240.0</td>\n",
       "      <td>2750.0</td>\n",
       "      <td>3690.0</td>\n",
       "      <td>5290.0</td>\n",
       "      <td>2740.0</td>\n",
       "      <td>0.0</td>\n",
       "      <td>0.0</td>\n",
       "    </tr>\n",
       "    <tr>\n",
       "      <th>2</th>\n",
       "      <td>0</td>\n",
       "      <td>25</td>\n",
       "      <td>Han Chinese</td>\n",
       "      <td>M</td>\n",
       "      <td>0.0</td>\n",
       "      <td>47.0</td>\n",
       "      <td>48.0</td>\n",
       "      <td>101.0</td>\n",
       "      <td>758000.0</td>\n",
       "      <td>384000.0</td>\n",
       "      <td>202000.0</td>\n",
       "      <td>62100.0</td>\n",
       "      <td>36300.0</td>\n",
       "      <td>131000.0</td>\n",
       "      <td>57200.0</td>\n",
       "      <td>25400.0</td>\n",
       "      <td>0.0</td>\n",
       "      <td>0.0</td>\n",
       "    </tr>\n",
       "    <tr>\n",
       "      <th>3</th>\n",
       "      <td>0</td>\n",
       "      <td>25</td>\n",
       "      <td>Han Chinese</td>\n",
       "      <td>M</td>\n",
       "      <td>0.0</td>\n",
       "      <td>47.0</td>\n",
       "      <td>57.0</td>\n",
       "      <td>-5.0</td>\n",
       "      <td>2010000.0</td>\n",
       "      <td>129000.0</td>\n",
       "      <td>61200.0</td>\n",
       "      <td>17100.0</td>\n",
       "      <td>11500.0</td>\n",
       "      <td>62500.0</td>\n",
       "      <td>50000.0</td>\n",
       "      <td>33900.0</td>\n",
       "      <td>0.0</td>\n",
       "      <td>0.0</td>\n",
       "    </tr>\n",
       "    <tr>\n",
       "      <th>4</th>\n",
       "      <td>0</td>\n",
       "      <td>25</td>\n",
       "      <td>Han Chinese</td>\n",
       "      <td>M</td>\n",
       "      <td>0.0</td>\n",
       "      <td>44.0</td>\n",
       "      <td>53.0</td>\n",
       "      <td>-8.0</td>\n",
       "      <td>1010000.0</td>\n",
       "      <td>354000.0</td>\n",
       "      <td>37100.0</td>\n",
       "      <td>88900.0</td>\n",
       "      <td>45300.0</td>\n",
       "      <td>99600.0</td>\n",
       "      <td>44800.0</td>\n",
       "      <td>29700.0</td>\n",
       "      <td>0.0</td>\n",
       "      <td>0.0</td>\n",
       "    </tr>\n",
       "  </tbody>\n",
       "</table>\n",
       "</div>"
      ],
      "text/plain": [
       "   SubjectID   age    ethnicity  gender  VideoID  Attention  Mediation    Raw  \\\n",
       "0          0    25  Han Chinese       M      0.0       56.0       43.0  278.0   \n",
       "1          0    25  Han Chinese       M      0.0       40.0       35.0  -50.0   \n",
       "2          0    25  Han Chinese       M      0.0       47.0       48.0  101.0   \n",
       "3          0    25  Han Chinese       M      0.0       47.0       57.0   -5.0   \n",
       "4          0    25  Han Chinese       M      0.0       44.0       53.0   -8.0   \n",
       "\n",
       "       Delta     Theta    Alpha1   Alpha2    Beta1     Beta2   Gamma1  \\\n",
       "0   302000.0   90600.0   33700.0  24000.0  27900.0   45100.0  33200.0   \n",
       "1    73800.0   28100.0    1440.0   2240.0   2750.0    3690.0   5290.0   \n",
       "2   758000.0  384000.0  202000.0  62100.0  36300.0  131000.0  57200.0   \n",
       "3  2010000.0  129000.0   61200.0  17100.0  11500.0   62500.0  50000.0   \n",
       "4  1010000.0  354000.0   37100.0  88900.0  45300.0   99600.0  44800.0   \n",
       "\n",
       "    Gamma2  predefinedlabel  user-definedlabeln  \n",
       "0   8290.0              0.0                 0.0  \n",
       "1   2740.0              0.0                 0.0  \n",
       "2  25400.0              0.0                 0.0  \n",
       "3  33900.0              0.0                 0.0  \n",
       "4  29700.0              0.0                 0.0  "
      ]
     },
     "execution_count": 277,
     "metadata": {},
     "output_type": "execute_result"
    }
   ],
   "source": [
    "info_data.head()"
   ]
  },
  {
   "cell_type": "code",
   "execution_count": 278,
   "id": "241797da",
   "metadata": {},
   "outputs": [
    {
     "name": "stdout",
     "output_type": "stream",
     "text": [
      "<class 'pandas.core.frame.DataFrame'>\n",
      "Int64Index: 12811 entries, 0 to 12810\n",
      "Data columns (total 18 columns):\n",
      " #   Column              Non-Null Count  Dtype  \n",
      "---  ------              --------------  -----  \n",
      " 0   SubjectID           12811 non-null  int64  \n",
      " 1    age                12811 non-null  int64  \n",
      " 2    ethnicity          12811 non-null  object \n",
      " 3    gender             12811 non-null  object \n",
      " 4   VideoID             12811 non-null  float64\n",
      " 5   Attention           12811 non-null  float64\n",
      " 6   Mediation           12811 non-null  float64\n",
      " 7   Raw                 12811 non-null  float64\n",
      " 8   Delta               12811 non-null  float64\n",
      " 9   Theta               12811 non-null  float64\n",
      " 10  Alpha1              12811 non-null  float64\n",
      " 11  Alpha2              12811 non-null  float64\n",
      " 12  Beta1               12811 non-null  float64\n",
      " 13  Beta2               12811 non-null  float64\n",
      " 14  Gamma1              12811 non-null  float64\n",
      " 15  Gamma2              12811 non-null  float64\n",
      " 16  predefinedlabel     12811 non-null  float64\n",
      " 17  user-definedlabeln  12811 non-null  float64\n",
      "dtypes: float64(14), int64(2), object(2)\n",
      "memory usage: 1.9+ MB\n"
     ]
    }
   ],
   "source": [
    "info_data.info()"
   ]
  },
  {
   "cell_type": "code",
   "execution_count": 279,
   "id": "4ece02aa",
   "metadata": {},
   "outputs": [],
   "source": [
    "data=info_data.drop(['SubjectID','VideoID','predefinedlabel'],axis=1)"
   ]
  },
  {
   "cell_type": "code",
   "execution_count": 280,
   "id": "31ab7f6e",
   "metadata": {},
   "outputs": [
    {
     "data": {
      "text/plain": [
       "Index([' age', ' ethnicity', ' gender', 'Attention', 'Mediation', 'Raw',\n",
       "       'Delta', 'Theta', 'Alpha1', 'Alpha2', 'Beta1', 'Beta2', 'Gamma1',\n",
       "       'Gamma2', 'user-definedlabeln'],\n",
       "      dtype='object')"
      ]
     },
     "execution_count": 280,
     "metadata": {},
     "output_type": "execute_result"
    }
   ],
   "source": [
    "data.columns"
   ]
  },
  {
   "cell_type": "code",
   "execution_count": 281,
   "id": "28f5c798",
   "metadata": {},
   "outputs": [
    {
     "data": {
      "text/html": [
       "<div>\n",
       "<style scoped>\n",
       "    .dataframe tbody tr th:only-of-type {\n",
       "        vertical-align: middle;\n",
       "    }\n",
       "\n",
       "    .dataframe tbody tr th {\n",
       "        vertical-align: top;\n",
       "    }\n",
       "\n",
       "    .dataframe thead th {\n",
       "        text-align: right;\n",
       "    }\n",
       "</style>\n",
       "<table border=\"1\" class=\"dataframe\">\n",
       "  <thead>\n",
       "    <tr style=\"text-align: right;\">\n",
       "      <th></th>\n",
       "      <th>age</th>\n",
       "      <th>ethnicity</th>\n",
       "      <th>gender</th>\n",
       "      <th>Attention</th>\n",
       "      <th>Mediation</th>\n",
       "      <th>Raw</th>\n",
       "      <th>Delta</th>\n",
       "      <th>Theta</th>\n",
       "      <th>Alpha1</th>\n",
       "      <th>Alpha2</th>\n",
       "      <th>Beta1</th>\n",
       "      <th>Beta2</th>\n",
       "      <th>Gamma1</th>\n",
       "      <th>Gamma2</th>\n",
       "      <th>user-definedlabeln</th>\n",
       "    </tr>\n",
       "  </thead>\n",
       "  <tbody>\n",
       "    <tr>\n",
       "      <th>0</th>\n",
       "      <td>25</td>\n",
       "      <td>Han Chinese</td>\n",
       "      <td>M</td>\n",
       "      <td>56.0</td>\n",
       "      <td>43.0</td>\n",
       "      <td>278.0</td>\n",
       "      <td>302000.0</td>\n",
       "      <td>90600.0</td>\n",
       "      <td>33700.0</td>\n",
       "      <td>24000.0</td>\n",
       "      <td>27900.0</td>\n",
       "      <td>45100.0</td>\n",
       "      <td>33200.0</td>\n",
       "      <td>8290.0</td>\n",
       "      <td>0.0</td>\n",
       "    </tr>\n",
       "    <tr>\n",
       "      <th>1</th>\n",
       "      <td>25</td>\n",
       "      <td>Han Chinese</td>\n",
       "      <td>M</td>\n",
       "      <td>40.0</td>\n",
       "      <td>35.0</td>\n",
       "      <td>-50.0</td>\n",
       "      <td>73800.0</td>\n",
       "      <td>28100.0</td>\n",
       "      <td>1440.0</td>\n",
       "      <td>2240.0</td>\n",
       "      <td>2750.0</td>\n",
       "      <td>3690.0</td>\n",
       "      <td>5290.0</td>\n",
       "      <td>2740.0</td>\n",
       "      <td>0.0</td>\n",
       "    </tr>\n",
       "    <tr>\n",
       "      <th>2</th>\n",
       "      <td>25</td>\n",
       "      <td>Han Chinese</td>\n",
       "      <td>M</td>\n",
       "      <td>47.0</td>\n",
       "      <td>48.0</td>\n",
       "      <td>101.0</td>\n",
       "      <td>758000.0</td>\n",
       "      <td>384000.0</td>\n",
       "      <td>202000.0</td>\n",
       "      <td>62100.0</td>\n",
       "      <td>36300.0</td>\n",
       "      <td>131000.0</td>\n",
       "      <td>57200.0</td>\n",
       "      <td>25400.0</td>\n",
       "      <td>0.0</td>\n",
       "    </tr>\n",
       "    <tr>\n",
       "      <th>3</th>\n",
       "      <td>25</td>\n",
       "      <td>Han Chinese</td>\n",
       "      <td>M</td>\n",
       "      <td>47.0</td>\n",
       "      <td>57.0</td>\n",
       "      <td>-5.0</td>\n",
       "      <td>2010000.0</td>\n",
       "      <td>129000.0</td>\n",
       "      <td>61200.0</td>\n",
       "      <td>17100.0</td>\n",
       "      <td>11500.0</td>\n",
       "      <td>62500.0</td>\n",
       "      <td>50000.0</td>\n",
       "      <td>33900.0</td>\n",
       "      <td>0.0</td>\n",
       "    </tr>\n",
       "    <tr>\n",
       "      <th>4</th>\n",
       "      <td>25</td>\n",
       "      <td>Han Chinese</td>\n",
       "      <td>M</td>\n",
       "      <td>44.0</td>\n",
       "      <td>53.0</td>\n",
       "      <td>-8.0</td>\n",
       "      <td>1010000.0</td>\n",
       "      <td>354000.0</td>\n",
       "      <td>37100.0</td>\n",
       "      <td>88900.0</td>\n",
       "      <td>45300.0</td>\n",
       "      <td>99600.0</td>\n",
       "      <td>44800.0</td>\n",
       "      <td>29700.0</td>\n",
       "      <td>0.0</td>\n",
       "    </tr>\n",
       "    <tr>\n",
       "      <th>...</th>\n",
       "      <td>...</td>\n",
       "      <td>...</td>\n",
       "      <td>...</td>\n",
       "      <td>...</td>\n",
       "      <td>...</td>\n",
       "      <td>...</td>\n",
       "      <td>...</td>\n",
       "      <td>...</td>\n",
       "      <td>...</td>\n",
       "      <td>...</td>\n",
       "      <td>...</td>\n",
       "      <td>...</td>\n",
       "      <td>...</td>\n",
       "      <td>...</td>\n",
       "      <td>...</td>\n",
       "    </tr>\n",
       "    <tr>\n",
       "      <th>12806</th>\n",
       "      <td>24</td>\n",
       "      <td>Han Chinese</td>\n",
       "      <td>F</td>\n",
       "      <td>64.0</td>\n",
       "      <td>38.0</td>\n",
       "      <td>-39.0</td>\n",
       "      <td>128000.0</td>\n",
       "      <td>9950.0</td>\n",
       "      <td>709.0</td>\n",
       "      <td>21700.0</td>\n",
       "      <td>3870.0</td>\n",
       "      <td>39700.0</td>\n",
       "      <td>2600.0</td>\n",
       "      <td>960.0</td>\n",
       "      <td>0.0</td>\n",
       "    </tr>\n",
       "    <tr>\n",
       "      <th>12807</th>\n",
       "      <td>24</td>\n",
       "      <td>Han Chinese</td>\n",
       "      <td>F</td>\n",
       "      <td>61.0</td>\n",
       "      <td>35.0</td>\n",
       "      <td>-275.0</td>\n",
       "      <td>323000.0</td>\n",
       "      <td>797000.0</td>\n",
       "      <td>153000.0</td>\n",
       "      <td>146000.0</td>\n",
       "      <td>39800.0</td>\n",
       "      <td>571000.0</td>\n",
       "      <td>36600.0</td>\n",
       "      <td>10000.0</td>\n",
       "      <td>0.0</td>\n",
       "    </tr>\n",
       "    <tr>\n",
       "      <th>12808</th>\n",
       "      <td>24</td>\n",
       "      <td>Han Chinese</td>\n",
       "      <td>F</td>\n",
       "      <td>60.0</td>\n",
       "      <td>29.0</td>\n",
       "      <td>-426.0</td>\n",
       "      <td>681000.0</td>\n",
       "      <td>154000.0</td>\n",
       "      <td>40100.0</td>\n",
       "      <td>39100.0</td>\n",
       "      <td>11000.0</td>\n",
       "      <td>27000.0</td>\n",
       "      <td>20400.0</td>\n",
       "      <td>2020.0</td>\n",
       "      <td>0.0</td>\n",
       "    </tr>\n",
       "    <tr>\n",
       "      <th>12809</th>\n",
       "      <td>24</td>\n",
       "      <td>Han Chinese</td>\n",
       "      <td>F</td>\n",
       "      <td>60.0</td>\n",
       "      <td>29.0</td>\n",
       "      <td>-84.0</td>\n",
       "      <td>366000.0</td>\n",
       "      <td>27300.0</td>\n",
       "      <td>11400.0</td>\n",
       "      <td>9930.0</td>\n",
       "      <td>1940.0</td>\n",
       "      <td>3280.0</td>\n",
       "      <td>12300.0</td>\n",
       "      <td>1760.0</td>\n",
       "      <td>0.0</td>\n",
       "    </tr>\n",
       "    <tr>\n",
       "      <th>12810</th>\n",
       "      <td>24</td>\n",
       "      <td>Han Chinese</td>\n",
       "      <td>F</td>\n",
       "      <td>64.0</td>\n",
       "      <td>29.0</td>\n",
       "      <td>-49.0</td>\n",
       "      <td>1160000.0</td>\n",
       "      <td>1180000.0</td>\n",
       "      <td>50000.0</td>\n",
       "      <td>124000.0</td>\n",
       "      <td>10600.0</td>\n",
       "      <td>445000.0</td>\n",
       "      <td>22100.0</td>\n",
       "      <td>4480.0</td>\n",
       "      <td>0.0</td>\n",
       "    </tr>\n",
       "  </tbody>\n",
       "</table>\n",
       "<p>12811 rows × 15 columns</p>\n",
       "</div>"
      ],
      "text/plain": [
       "        age    ethnicity  gender  Attention  Mediation    Raw      Delta  \\\n",
       "0        25  Han Chinese       M       56.0       43.0  278.0   302000.0   \n",
       "1        25  Han Chinese       M       40.0       35.0  -50.0    73800.0   \n",
       "2        25  Han Chinese       M       47.0       48.0  101.0   758000.0   \n",
       "3        25  Han Chinese       M       47.0       57.0   -5.0  2010000.0   \n",
       "4        25  Han Chinese       M       44.0       53.0   -8.0  1010000.0   \n",
       "...     ...          ...     ...        ...        ...    ...        ...   \n",
       "12806    24  Han Chinese       F       64.0       38.0  -39.0   128000.0   \n",
       "12807    24  Han Chinese       F       61.0       35.0 -275.0   323000.0   \n",
       "12808    24  Han Chinese       F       60.0       29.0 -426.0   681000.0   \n",
       "12809    24  Han Chinese       F       60.0       29.0  -84.0   366000.0   \n",
       "12810    24  Han Chinese       F       64.0       29.0  -49.0  1160000.0   \n",
       "\n",
       "           Theta    Alpha1    Alpha2    Beta1     Beta2   Gamma1   Gamma2  \\\n",
       "0        90600.0   33700.0   24000.0  27900.0   45100.0  33200.0   8290.0   \n",
       "1        28100.0    1440.0    2240.0   2750.0    3690.0   5290.0   2740.0   \n",
       "2       384000.0  202000.0   62100.0  36300.0  131000.0  57200.0  25400.0   \n",
       "3       129000.0   61200.0   17100.0  11500.0   62500.0  50000.0  33900.0   \n",
       "4       354000.0   37100.0   88900.0  45300.0   99600.0  44800.0  29700.0   \n",
       "...          ...       ...       ...      ...       ...      ...      ...   \n",
       "12806     9950.0     709.0   21700.0   3870.0   39700.0   2600.0    960.0   \n",
       "12807   797000.0  153000.0  146000.0  39800.0  571000.0  36600.0  10000.0   \n",
       "12808   154000.0   40100.0   39100.0  11000.0   27000.0  20400.0   2020.0   \n",
       "12809    27300.0   11400.0    9930.0   1940.0    3280.0  12300.0   1760.0   \n",
       "12810  1180000.0   50000.0  124000.0  10600.0  445000.0  22100.0   4480.0   \n",
       "\n",
       "       user-definedlabeln  \n",
       "0                     0.0  \n",
       "1                     0.0  \n",
       "2                     0.0  \n",
       "3                     0.0  \n",
       "4                     0.0  \n",
       "...                   ...  \n",
       "12806                 0.0  \n",
       "12807                 0.0  \n",
       "12808                 0.0  \n",
       "12809                 0.0  \n",
       "12810                 0.0  \n",
       "\n",
       "[12811 rows x 15 columns]"
      ]
     },
     "execution_count": 281,
     "metadata": {},
     "output_type": "execute_result"
    }
   ],
   "source": [
    "data"
   ]
  },
  {
   "cell_type": "code",
   "execution_count": 282,
   "id": "772a593a",
   "metadata": {},
   "outputs": [
    {
     "data": {
      "text/html": [
       "<div>\n",
       "<style scoped>\n",
       "    .dataframe tbody tr th:only-of-type {\n",
       "        vertical-align: middle;\n",
       "    }\n",
       "\n",
       "    .dataframe tbody tr th {\n",
       "        vertical-align: top;\n",
       "    }\n",
       "\n",
       "    .dataframe thead th {\n",
       "        text-align: right;\n",
       "    }\n",
       "</style>\n",
       "<table border=\"1\" class=\"dataframe\">\n",
       "  <thead>\n",
       "    <tr style=\"text-align: right;\">\n",
       "      <th></th>\n",
       "      <th>Age</th>\n",
       "      <th>Ethnicity</th>\n",
       "      <th>Gender</th>\n",
       "      <th>Attention</th>\n",
       "      <th>Mediation</th>\n",
       "      <th>Raw</th>\n",
       "      <th>Delta</th>\n",
       "      <th>Theta</th>\n",
       "      <th>Alpha1</th>\n",
       "      <th>Alpha2</th>\n",
       "      <th>Beta1</th>\n",
       "      <th>Beta2</th>\n",
       "      <th>Gamma1</th>\n",
       "      <th>Gamma2</th>\n",
       "      <th>Label</th>\n",
       "    </tr>\n",
       "  </thead>\n",
       "  <tbody>\n",
       "    <tr>\n",
       "      <th>0</th>\n",
       "      <td>25</td>\n",
       "      <td>Han Chinese</td>\n",
       "      <td>M</td>\n",
       "      <td>56.0</td>\n",
       "      <td>43.0</td>\n",
       "      <td>278.0</td>\n",
       "      <td>302000.0</td>\n",
       "      <td>90600.0</td>\n",
       "      <td>33700.0</td>\n",
       "      <td>24000.0</td>\n",
       "      <td>27900.0</td>\n",
       "      <td>45100.0</td>\n",
       "      <td>33200.0</td>\n",
       "      <td>8290.0</td>\n",
       "      <td>0</td>\n",
       "    </tr>\n",
       "    <tr>\n",
       "      <th>1</th>\n",
       "      <td>25</td>\n",
       "      <td>Han Chinese</td>\n",
       "      <td>M</td>\n",
       "      <td>40.0</td>\n",
       "      <td>35.0</td>\n",
       "      <td>-50.0</td>\n",
       "      <td>73800.0</td>\n",
       "      <td>28100.0</td>\n",
       "      <td>1440.0</td>\n",
       "      <td>2240.0</td>\n",
       "      <td>2750.0</td>\n",
       "      <td>3690.0</td>\n",
       "      <td>5290.0</td>\n",
       "      <td>2740.0</td>\n",
       "      <td>0</td>\n",
       "    </tr>\n",
       "    <tr>\n",
       "      <th>2</th>\n",
       "      <td>25</td>\n",
       "      <td>Han Chinese</td>\n",
       "      <td>M</td>\n",
       "      <td>47.0</td>\n",
       "      <td>48.0</td>\n",
       "      <td>101.0</td>\n",
       "      <td>758000.0</td>\n",
       "      <td>384000.0</td>\n",
       "      <td>202000.0</td>\n",
       "      <td>62100.0</td>\n",
       "      <td>36300.0</td>\n",
       "      <td>131000.0</td>\n",
       "      <td>57200.0</td>\n",
       "      <td>25400.0</td>\n",
       "      <td>0</td>\n",
       "    </tr>\n",
       "    <tr>\n",
       "      <th>3</th>\n",
       "      <td>25</td>\n",
       "      <td>Han Chinese</td>\n",
       "      <td>M</td>\n",
       "      <td>47.0</td>\n",
       "      <td>57.0</td>\n",
       "      <td>-5.0</td>\n",
       "      <td>2010000.0</td>\n",
       "      <td>129000.0</td>\n",
       "      <td>61200.0</td>\n",
       "      <td>17100.0</td>\n",
       "      <td>11500.0</td>\n",
       "      <td>62500.0</td>\n",
       "      <td>50000.0</td>\n",
       "      <td>33900.0</td>\n",
       "      <td>0</td>\n",
       "    </tr>\n",
       "    <tr>\n",
       "      <th>4</th>\n",
       "      <td>25</td>\n",
       "      <td>Han Chinese</td>\n",
       "      <td>M</td>\n",
       "      <td>44.0</td>\n",
       "      <td>53.0</td>\n",
       "      <td>-8.0</td>\n",
       "      <td>1010000.0</td>\n",
       "      <td>354000.0</td>\n",
       "      <td>37100.0</td>\n",
       "      <td>88900.0</td>\n",
       "      <td>45300.0</td>\n",
       "      <td>99600.0</td>\n",
       "      <td>44800.0</td>\n",
       "      <td>29700.0</td>\n",
       "      <td>0</td>\n",
       "    </tr>\n",
       "    <tr>\n",
       "      <th>...</th>\n",
       "      <td>...</td>\n",
       "      <td>...</td>\n",
       "      <td>...</td>\n",
       "      <td>...</td>\n",
       "      <td>...</td>\n",
       "      <td>...</td>\n",
       "      <td>...</td>\n",
       "      <td>...</td>\n",
       "      <td>...</td>\n",
       "      <td>...</td>\n",
       "      <td>...</td>\n",
       "      <td>...</td>\n",
       "      <td>...</td>\n",
       "      <td>...</td>\n",
       "      <td>...</td>\n",
       "    </tr>\n",
       "    <tr>\n",
       "      <th>12806</th>\n",
       "      <td>24</td>\n",
       "      <td>Han Chinese</td>\n",
       "      <td>F</td>\n",
       "      <td>64.0</td>\n",
       "      <td>38.0</td>\n",
       "      <td>-39.0</td>\n",
       "      <td>128000.0</td>\n",
       "      <td>9950.0</td>\n",
       "      <td>709.0</td>\n",
       "      <td>21700.0</td>\n",
       "      <td>3870.0</td>\n",
       "      <td>39700.0</td>\n",
       "      <td>2600.0</td>\n",
       "      <td>960.0</td>\n",
       "      <td>0</td>\n",
       "    </tr>\n",
       "    <tr>\n",
       "      <th>12807</th>\n",
       "      <td>24</td>\n",
       "      <td>Han Chinese</td>\n",
       "      <td>F</td>\n",
       "      <td>61.0</td>\n",
       "      <td>35.0</td>\n",
       "      <td>-275.0</td>\n",
       "      <td>323000.0</td>\n",
       "      <td>797000.0</td>\n",
       "      <td>153000.0</td>\n",
       "      <td>146000.0</td>\n",
       "      <td>39800.0</td>\n",
       "      <td>571000.0</td>\n",
       "      <td>36600.0</td>\n",
       "      <td>10000.0</td>\n",
       "      <td>0</td>\n",
       "    </tr>\n",
       "    <tr>\n",
       "      <th>12808</th>\n",
       "      <td>24</td>\n",
       "      <td>Han Chinese</td>\n",
       "      <td>F</td>\n",
       "      <td>60.0</td>\n",
       "      <td>29.0</td>\n",
       "      <td>-426.0</td>\n",
       "      <td>681000.0</td>\n",
       "      <td>154000.0</td>\n",
       "      <td>40100.0</td>\n",
       "      <td>39100.0</td>\n",
       "      <td>11000.0</td>\n",
       "      <td>27000.0</td>\n",
       "      <td>20400.0</td>\n",
       "      <td>2020.0</td>\n",
       "      <td>0</td>\n",
       "    </tr>\n",
       "    <tr>\n",
       "      <th>12809</th>\n",
       "      <td>24</td>\n",
       "      <td>Han Chinese</td>\n",
       "      <td>F</td>\n",
       "      <td>60.0</td>\n",
       "      <td>29.0</td>\n",
       "      <td>-84.0</td>\n",
       "      <td>366000.0</td>\n",
       "      <td>27300.0</td>\n",
       "      <td>11400.0</td>\n",
       "      <td>9930.0</td>\n",
       "      <td>1940.0</td>\n",
       "      <td>3280.0</td>\n",
       "      <td>12300.0</td>\n",
       "      <td>1760.0</td>\n",
       "      <td>0</td>\n",
       "    </tr>\n",
       "    <tr>\n",
       "      <th>12810</th>\n",
       "      <td>24</td>\n",
       "      <td>Han Chinese</td>\n",
       "      <td>F</td>\n",
       "      <td>64.0</td>\n",
       "      <td>29.0</td>\n",
       "      <td>-49.0</td>\n",
       "      <td>1160000.0</td>\n",
       "      <td>1180000.0</td>\n",
       "      <td>50000.0</td>\n",
       "      <td>124000.0</td>\n",
       "      <td>10600.0</td>\n",
       "      <td>445000.0</td>\n",
       "      <td>22100.0</td>\n",
       "      <td>4480.0</td>\n",
       "      <td>0</td>\n",
       "    </tr>\n",
       "  </tbody>\n",
       "</table>\n",
       "<p>12811 rows × 15 columns</p>\n",
       "</div>"
      ],
      "text/plain": [
       "       Age    Ethnicity Gender  Attention  Mediation    Raw      Delta  \\\n",
       "0       25  Han Chinese      M       56.0       43.0  278.0   302000.0   \n",
       "1       25  Han Chinese      M       40.0       35.0  -50.0    73800.0   \n",
       "2       25  Han Chinese      M       47.0       48.0  101.0   758000.0   \n",
       "3       25  Han Chinese      M       47.0       57.0   -5.0  2010000.0   \n",
       "4       25  Han Chinese      M       44.0       53.0   -8.0  1010000.0   \n",
       "...    ...          ...    ...        ...        ...    ...        ...   \n",
       "12806   24  Han Chinese      F       64.0       38.0  -39.0   128000.0   \n",
       "12807   24  Han Chinese      F       61.0       35.0 -275.0   323000.0   \n",
       "12808   24  Han Chinese      F       60.0       29.0 -426.0   681000.0   \n",
       "12809   24  Han Chinese      F       60.0       29.0  -84.0   366000.0   \n",
       "12810   24  Han Chinese      F       64.0       29.0  -49.0  1160000.0   \n",
       "\n",
       "           Theta    Alpha1    Alpha2    Beta1     Beta2   Gamma1   Gamma2  \\\n",
       "0        90600.0   33700.0   24000.0  27900.0   45100.0  33200.0   8290.0   \n",
       "1        28100.0    1440.0    2240.0   2750.0    3690.0   5290.0   2740.0   \n",
       "2       384000.0  202000.0   62100.0  36300.0  131000.0  57200.0  25400.0   \n",
       "3       129000.0   61200.0   17100.0  11500.0   62500.0  50000.0  33900.0   \n",
       "4       354000.0   37100.0   88900.0  45300.0   99600.0  44800.0  29700.0   \n",
       "...          ...       ...       ...      ...       ...      ...      ...   \n",
       "12806     9950.0     709.0   21700.0   3870.0   39700.0   2600.0    960.0   \n",
       "12807   797000.0  153000.0  146000.0  39800.0  571000.0  36600.0  10000.0   \n",
       "12808   154000.0   40100.0   39100.0  11000.0   27000.0  20400.0   2020.0   \n",
       "12809    27300.0   11400.0    9930.0   1940.0    3280.0  12300.0   1760.0   \n",
       "12810  1180000.0   50000.0  124000.0  10600.0  445000.0  22100.0   4480.0   \n",
       "\n",
       "       Label  \n",
       "0          0  \n",
       "1          0  \n",
       "2          0  \n",
       "3          0  \n",
       "4          0  \n",
       "...      ...  \n",
       "12806      0  \n",
       "12807      0  \n",
       "12808      0  \n",
       "12809      0  \n",
       "12810      0  \n",
       "\n",
       "[12811 rows x 15 columns]"
      ]
     },
     "execution_count": 282,
     "metadata": {},
     "output_type": "execute_result"
    }
   ],
   "source": [
    "data=data.rename(columns={' age':'Age',' ethnicity':'Ethnicity',' gender':'Gender','user-definedlabeln':'Label'})\n",
    "data['Label']=data['Label'].astype(np.int)\n",
    "data"
   ]
  },
  {
   "cell_type": "code",
   "execution_count": 283,
   "id": "4f06093a",
   "metadata": {},
   "outputs": [
    {
     "name": "stdout",
     "output_type": "stream",
     "text": [
      "Missing Values: 0\n"
     ]
    }
   ],
   "source": [
    "print('Missing Values:',data.isna().sum().sum())"
   ]
  },
  {
   "cell_type": "code",
   "execution_count": 284,
   "id": "2bfc7adc",
   "metadata": {},
   "outputs": [
    {
     "data": {
      "text/plain": [
       "array(['M', 'F'], dtype=object)"
      ]
     },
     "execution_count": 284,
     "metadata": {},
     "output_type": "execute_result"
    }
   ],
   "source": [
    "data['Gender'].unique()"
   ]
  },
  {
   "cell_type": "code",
   "execution_count": 285,
   "id": "8015530a",
   "metadata": {},
   "outputs": [
    {
     "data": {
      "text/plain": [
       "array(['Han Chinese', 'English', 'Bengali'], dtype=object)"
      ]
     },
     "execution_count": 285,
     "metadata": {},
     "output_type": "execute_result"
    }
   ],
   "source": [
    "data['Ethnicity'].unique()"
   ]
  },
  {
   "cell_type": "code",
   "execution_count": 286,
   "id": "adacdd4c",
   "metadata": {},
   "outputs": [],
   "source": [
    "data[\"Gender\"]=data[\"Gender\"].apply(lambda x:1 if x=='M' else 0)"
   ]
  },
  {
   "cell_type": "code",
   "execution_count": 287,
   "id": "eb7b6bb6",
   "metadata": {},
   "outputs": [
    {
     "data": {
      "text/plain": [
       "array([25, 24, 31, 28], dtype=int64)"
      ]
     },
     "execution_count": 287,
     "metadata": {},
     "output_type": "execute_result"
    }
   ],
   "source": [
    "data['Age'].unique()"
   ]
  },
  {
   "cell_type": "code",
   "execution_count": 288,
   "id": "84a86b43",
   "metadata": {},
   "outputs": [
    {
     "data": {
      "text/plain": [
       "pandas.core.frame.DataFrame"
      ]
     },
     "execution_count": 288,
     "metadata": {},
     "output_type": "execute_result"
    }
   ],
   "source": [
    "type(data)"
   ]
  },
  {
   "cell_type": "code",
   "execution_count": 289,
   "id": "94eca7ec",
   "metadata": {},
   "outputs": [],
   "source": [
    "input_cols = ['Age','Gender','Ethnicity',\n",
    "              'Attention','Mediation','Raw','Delta','Theta','Alpha1','Alpha2','Beta1','Beta2','Gamma1','Gamma2']\n",
    "target_col = 'Label'"
   ]
  },
  {
   "cell_type": "code",
   "execution_count": 290,
   "id": "4af37e04",
   "metadata": {},
   "outputs": [],
   "source": [
    "inputs = data[input_cols].copy()\n",
    "targets = data[target_col].copy()"
   ]
  },
  {
   "cell_type": "code",
   "execution_count": 291,
   "id": "79329839",
   "metadata": {},
   "outputs": [],
   "source": [
    "numeric_cols = ['Attention','Mediation','Raw','Delta','Theta','Alpha1','Alpha2','Beta1','Beta2','Gamma1','Gamma2' ]\n",
    "categorical_cols = ['Age','Gender','Ethnicity']"
   ]
  },
  {
   "cell_type": "code",
   "execution_count": 292,
   "id": "e8b5f079",
   "metadata": {},
   "outputs": [],
   "source": [
    "from sklearn.preprocessing import MinMaxScaler"
   ]
  },
  {
   "cell_type": "code",
   "execution_count": 293,
   "id": "8217fa79",
   "metadata": {},
   "outputs": [],
   "source": [
    "scaler = MinMaxScaler().fit(inputs[numeric_cols])"
   ]
  },
  {
   "cell_type": "code",
   "execution_count": 294,
   "id": "940f1f19",
   "metadata": {},
   "outputs": [],
   "source": [
    "inputs[numeric_cols] = scaler.transform(inputs[numeric_cols])"
   ]
  },
  {
   "cell_type": "code",
   "execution_count": 295,
   "id": "dd910b68",
   "metadata": {},
   "outputs": [],
   "source": [
    "from sklearn.preprocessing import OneHotEncoder"
   ]
  },
  {
   "cell_type": "code",
   "execution_count": 296,
   "id": "43fba7be",
   "metadata": {},
   "outputs": [],
   "source": [
    "encoder = OneHotEncoder(sparse=False, handle_unknown='ignore').fit(inputs[categorical_cols])\n",
    "encoded_cols = list(encoder.get_feature_names_out(categorical_cols))"
   ]
  },
  {
   "cell_type": "code",
   "execution_count": 297,
   "id": "f13f3e6c",
   "metadata": {},
   "outputs": [],
   "source": [
    "inputs[encoded_cols] = encoder.transform(inputs[categorical_cols])"
   ]
  },
  {
   "cell_type": "code",
   "execution_count": 298,
   "id": "c7ef95c2",
   "metadata": {},
   "outputs": [
    {
     "data": {
      "text/html": [
       "<div>\n",
       "<style scoped>\n",
       "    .dataframe tbody tr th:only-of-type {\n",
       "        vertical-align: middle;\n",
       "    }\n",
       "\n",
       "    .dataframe tbody tr th {\n",
       "        vertical-align: top;\n",
       "    }\n",
       "\n",
       "    .dataframe thead th {\n",
       "        text-align: right;\n",
       "    }\n",
       "</style>\n",
       "<table border=\"1\" class=\"dataframe\">\n",
       "  <thead>\n",
       "    <tr style=\"text-align: right;\">\n",
       "      <th></th>\n",
       "      <th>Age</th>\n",
       "      <th>Gender</th>\n",
       "      <th>Ethnicity</th>\n",
       "      <th>Attention</th>\n",
       "      <th>Mediation</th>\n",
       "      <th>Raw</th>\n",
       "      <th>Delta</th>\n",
       "      <th>Theta</th>\n",
       "      <th>Alpha1</th>\n",
       "      <th>Alpha2</th>\n",
       "      <th>...</th>\n",
       "      <th>Gamma2</th>\n",
       "      <th>Age_24</th>\n",
       "      <th>Age_25</th>\n",
       "      <th>Age_28</th>\n",
       "      <th>Age_31</th>\n",
       "      <th>Gender_0</th>\n",
       "      <th>Gender_1</th>\n",
       "      <th>Ethnicity_Bengali</th>\n",
       "      <th>Ethnicity_English</th>\n",
       "      <th>Ethnicity_Han Chinese</th>\n",
       "    </tr>\n",
       "  </thead>\n",
       "  <tbody>\n",
       "    <tr>\n",
       "      <th>0</th>\n",
       "      <td>25</td>\n",
       "      <td>1</td>\n",
       "      <td>Han Chinese</td>\n",
       "      <td>0.56</td>\n",
       "      <td>0.43</td>\n",
       "      <td>0.567805</td>\n",
       "      <td>0.076158</td>\n",
       "      <td>0.030094</td>\n",
       "      <td>0.024597</td>\n",
       "      <td>0.023527</td>\n",
       "      <td>...</td>\n",
       "      <td>0.006139</td>\n",
       "      <td>0.0</td>\n",
       "      <td>1.0</td>\n",
       "      <td>0.0</td>\n",
       "      <td>0.0</td>\n",
       "      <td>0.0</td>\n",
       "      <td>1.0</td>\n",
       "      <td>0.0</td>\n",
       "      <td>0.0</td>\n",
       "      <td>1.0</td>\n",
       "    </tr>\n",
       "    <tr>\n",
       "      <th>1</th>\n",
       "      <td>25</td>\n",
       "      <td>1</td>\n",
       "      <td>Han Chinese</td>\n",
       "      <td>0.40</td>\n",
       "      <td>0.35</td>\n",
       "      <td>0.487805</td>\n",
       "      <td>0.018525</td>\n",
       "      <td>0.009330</td>\n",
       "      <td>0.001050</td>\n",
       "      <td>0.002194</td>\n",
       "      <td>...</td>\n",
       "      <td>0.002028</td>\n",
       "      <td>0.0</td>\n",
       "      <td>1.0</td>\n",
       "      <td>0.0</td>\n",
       "      <td>0.0</td>\n",
       "      <td>0.0</td>\n",
       "      <td>1.0</td>\n",
       "      <td>0.0</td>\n",
       "      <td>0.0</td>\n",
       "      <td>1.0</td>\n",
       "    </tr>\n",
       "    <tr>\n",
       "      <th>2</th>\n",
       "      <td>25</td>\n",
       "      <td>1</td>\n",
       "      <td>Han Chinese</td>\n",
       "      <td>0.47</td>\n",
       "      <td>0.48</td>\n",
       "      <td>0.524634</td>\n",
       "      <td>0.191323</td>\n",
       "      <td>0.127570</td>\n",
       "      <td>0.147444</td>\n",
       "      <td>0.060881</td>\n",
       "      <td>...</td>\n",
       "      <td>0.018813</td>\n",
       "      <td>0.0</td>\n",
       "      <td>1.0</td>\n",
       "      <td>0.0</td>\n",
       "      <td>0.0</td>\n",
       "      <td>0.0</td>\n",
       "      <td>1.0</td>\n",
       "      <td>0.0</td>\n",
       "      <td>0.0</td>\n",
       "      <td>1.0</td>\n",
       "    </tr>\n",
       "    <tr>\n",
       "      <th>3</th>\n",
       "      <td>25</td>\n",
       "      <td>1</td>\n",
       "      <td>Han Chinese</td>\n",
       "      <td>0.47</td>\n",
       "      <td>0.57</td>\n",
       "      <td>0.498780</td>\n",
       "      <td>0.507520</td>\n",
       "      <td>0.042852</td>\n",
       "      <td>0.044670</td>\n",
       "      <td>0.016763</td>\n",
       "      <td>...</td>\n",
       "      <td>0.025110</td>\n",
       "      <td>0.0</td>\n",
       "      <td>1.0</td>\n",
       "      <td>0.0</td>\n",
       "      <td>0.0</td>\n",
       "      <td>0.0</td>\n",
       "      <td>1.0</td>\n",
       "      <td>0.0</td>\n",
       "      <td>0.0</td>\n",
       "      <td>1.0</td>\n",
       "    </tr>\n",
       "    <tr>\n",
       "      <th>4</th>\n",
       "      <td>25</td>\n",
       "      <td>1</td>\n",
       "      <td>Han Chinese</td>\n",
       "      <td>0.44</td>\n",
       "      <td>0.53</td>\n",
       "      <td>0.498049</td>\n",
       "      <td>0.254966</td>\n",
       "      <td>0.117603</td>\n",
       "      <td>0.027079</td>\n",
       "      <td>0.087155</td>\n",
       "      <td>...</td>\n",
       "      <td>0.021999</td>\n",
       "      <td>0.0</td>\n",
       "      <td>1.0</td>\n",
       "      <td>0.0</td>\n",
       "      <td>0.0</td>\n",
       "      <td>0.0</td>\n",
       "      <td>1.0</td>\n",
       "      <td>0.0</td>\n",
       "      <td>0.0</td>\n",
       "      <td>1.0</td>\n",
       "    </tr>\n",
       "    <tr>\n",
       "      <th>...</th>\n",
       "      <td>...</td>\n",
       "      <td>...</td>\n",
       "      <td>...</td>\n",
       "      <td>...</td>\n",
       "      <td>...</td>\n",
       "      <td>...</td>\n",
       "      <td>...</td>\n",
       "      <td>...</td>\n",
       "      <td>...</td>\n",
       "      <td>...</td>\n",
       "      <td>...</td>\n",
       "      <td>...</td>\n",
       "      <td>...</td>\n",
       "      <td>...</td>\n",
       "      <td>...</td>\n",
       "      <td>...</td>\n",
       "      <td>...</td>\n",
       "      <td>...</td>\n",
       "      <td>...</td>\n",
       "      <td>...</td>\n",
       "      <td>...</td>\n",
       "    </tr>\n",
       "    <tr>\n",
       "      <th>12806</th>\n",
       "      <td>24</td>\n",
       "      <td>0</td>\n",
       "      <td>Han Chinese</td>\n",
       "      <td>0.64</td>\n",
       "      <td>0.38</td>\n",
       "      <td>0.490488</td>\n",
       "      <td>0.032214</td>\n",
       "      <td>0.003300</td>\n",
       "      <td>0.000516</td>\n",
       "      <td>0.021273</td>\n",
       "      <td>...</td>\n",
       "      <td>0.000710</td>\n",
       "      <td>1.0</td>\n",
       "      <td>0.0</td>\n",
       "      <td>0.0</td>\n",
       "      <td>0.0</td>\n",
       "      <td>1.0</td>\n",
       "      <td>0.0</td>\n",
       "      <td>0.0</td>\n",
       "      <td>0.0</td>\n",
       "      <td>1.0</td>\n",
       "    </tr>\n",
       "    <tr>\n",
       "      <th>12807</th>\n",
       "      <td>24</td>\n",
       "      <td>0</td>\n",
       "      <td>Han Chinese</td>\n",
       "      <td>0.61</td>\n",
       "      <td>0.35</td>\n",
       "      <td>0.432927</td>\n",
       "      <td>0.081462</td>\n",
       "      <td>0.264780</td>\n",
       "      <td>0.111678</td>\n",
       "      <td>0.143136</td>\n",
       "      <td>...</td>\n",
       "      <td>0.007406</td>\n",
       "      <td>1.0</td>\n",
       "      <td>0.0</td>\n",
       "      <td>0.0</td>\n",
       "      <td>0.0</td>\n",
       "      <td>1.0</td>\n",
       "      <td>0.0</td>\n",
       "      <td>0.0</td>\n",
       "      <td>0.0</td>\n",
       "      <td>1.0</td>\n",
       "    </tr>\n",
       "    <tr>\n",
       "      <th>12808</th>\n",
       "      <td>24</td>\n",
       "      <td>0</td>\n",
       "      <td>Han Chinese</td>\n",
       "      <td>0.60</td>\n",
       "      <td>0.29</td>\n",
       "      <td>0.396098</td>\n",
       "      <td>0.171876</td>\n",
       "      <td>0.051157</td>\n",
       "      <td>0.029269</td>\n",
       "      <td>0.038331</td>\n",
       "      <td>...</td>\n",
       "      <td>0.001495</td>\n",
       "      <td>1.0</td>\n",
       "      <td>0.0</td>\n",
       "      <td>0.0</td>\n",
       "      <td>0.0</td>\n",
       "      <td>1.0</td>\n",
       "      <td>0.0</td>\n",
       "      <td>0.0</td>\n",
       "      <td>0.0</td>\n",
       "      <td>1.0</td>\n",
       "    </tr>\n",
       "    <tr>\n",
       "      <th>12809</th>\n",
       "      <td>24</td>\n",
       "      <td>0</td>\n",
       "      <td>Han Chinese</td>\n",
       "      <td>0.60</td>\n",
       "      <td>0.29</td>\n",
       "      <td>0.479512</td>\n",
       "      <td>0.092322</td>\n",
       "      <td>0.009064</td>\n",
       "      <td>0.008320</td>\n",
       "      <td>0.009733</td>\n",
       "      <td>...</td>\n",
       "      <td>0.001302</td>\n",
       "      <td>1.0</td>\n",
       "      <td>0.0</td>\n",
       "      <td>0.0</td>\n",
       "      <td>0.0</td>\n",
       "      <td>1.0</td>\n",
       "      <td>0.0</td>\n",
       "      <td>0.0</td>\n",
       "      <td>0.0</td>\n",
       "      <td>1.0</td>\n",
       "    </tr>\n",
       "    <tr>\n",
       "      <th>12810</th>\n",
       "      <td>24</td>\n",
       "      <td>0</td>\n",
       "      <td>Han Chinese</td>\n",
       "      <td>0.64</td>\n",
       "      <td>0.29</td>\n",
       "      <td>0.488049</td>\n",
       "      <td>0.292849</td>\n",
       "      <td>0.392023</td>\n",
       "      <td>0.036495</td>\n",
       "      <td>0.121567</td>\n",
       "      <td>...</td>\n",
       "      <td>0.003317</td>\n",
       "      <td>1.0</td>\n",
       "      <td>0.0</td>\n",
       "      <td>0.0</td>\n",
       "      <td>0.0</td>\n",
       "      <td>1.0</td>\n",
       "      <td>0.0</td>\n",
       "      <td>0.0</td>\n",
       "      <td>0.0</td>\n",
       "      <td>1.0</td>\n",
       "    </tr>\n",
       "  </tbody>\n",
       "</table>\n",
       "<p>12811 rows × 23 columns</p>\n",
       "</div>"
      ],
      "text/plain": [
       "       Age  Gender    Ethnicity  Attention  Mediation       Raw     Delta  \\\n",
       "0       25       1  Han Chinese       0.56       0.43  0.567805  0.076158   \n",
       "1       25       1  Han Chinese       0.40       0.35  0.487805  0.018525   \n",
       "2       25       1  Han Chinese       0.47       0.48  0.524634  0.191323   \n",
       "3       25       1  Han Chinese       0.47       0.57  0.498780  0.507520   \n",
       "4       25       1  Han Chinese       0.44       0.53  0.498049  0.254966   \n",
       "...    ...     ...          ...        ...        ...       ...       ...   \n",
       "12806   24       0  Han Chinese       0.64       0.38  0.490488  0.032214   \n",
       "12807   24       0  Han Chinese       0.61       0.35  0.432927  0.081462   \n",
       "12808   24       0  Han Chinese       0.60       0.29  0.396098  0.171876   \n",
       "12809   24       0  Han Chinese       0.60       0.29  0.479512  0.092322   \n",
       "12810   24       0  Han Chinese       0.64       0.29  0.488049  0.292849   \n",
       "\n",
       "          Theta    Alpha1    Alpha2  ...    Gamma2  Age_24  Age_25  Age_28  \\\n",
       "0      0.030094  0.024597  0.023527  ...  0.006139     0.0     1.0     0.0   \n",
       "1      0.009330  0.001050  0.002194  ...  0.002028     0.0     1.0     0.0   \n",
       "2      0.127570  0.147444  0.060881  ...  0.018813     0.0     1.0     0.0   \n",
       "3      0.042852  0.044670  0.016763  ...  0.025110     0.0     1.0     0.0   \n",
       "4      0.117603  0.027079  0.087155  ...  0.021999     0.0     1.0     0.0   \n",
       "...         ...       ...       ...  ...       ...     ...     ...     ...   \n",
       "12806  0.003300  0.000516  0.021273  ...  0.000710     1.0     0.0     0.0   \n",
       "12807  0.264780  0.111678  0.143136  ...  0.007406     1.0     0.0     0.0   \n",
       "12808  0.051157  0.029269  0.038331  ...  0.001495     1.0     0.0     0.0   \n",
       "12809  0.009064  0.008320  0.009733  ...  0.001302     1.0     0.0     0.0   \n",
       "12810  0.392023  0.036495  0.121567  ...  0.003317     1.0     0.0     0.0   \n",
       "\n",
       "       Age_31  Gender_0  Gender_1  Ethnicity_Bengali  Ethnicity_English  \\\n",
       "0         0.0       0.0       1.0                0.0                0.0   \n",
       "1         0.0       0.0       1.0                0.0                0.0   \n",
       "2         0.0       0.0       1.0                0.0                0.0   \n",
       "3         0.0       0.0       1.0                0.0                0.0   \n",
       "4         0.0       0.0       1.0                0.0                0.0   \n",
       "...       ...       ...       ...                ...                ...   \n",
       "12806     0.0       1.0       0.0                0.0                0.0   \n",
       "12807     0.0       1.0       0.0                0.0                0.0   \n",
       "12808     0.0       1.0       0.0                0.0                0.0   \n",
       "12809     0.0       1.0       0.0                0.0                0.0   \n",
       "12810     0.0       1.0       0.0                0.0                0.0   \n",
       "\n",
       "       Ethnicity_Han Chinese  \n",
       "0                        1.0  \n",
       "1                        1.0  \n",
       "2                        1.0  \n",
       "3                        1.0  \n",
       "4                        1.0  \n",
       "...                      ...  \n",
       "12806                    1.0  \n",
       "12807                    1.0  \n",
       "12808                    1.0  \n",
       "12809                    1.0  \n",
       "12810                    1.0  \n",
       "\n",
       "[12811 rows x 23 columns]"
      ]
     },
     "execution_count": 298,
     "metadata": {},
     "output_type": "execute_result"
    }
   ],
   "source": [
    "inputs"
   ]
  },
  {
   "cell_type": "code",
   "execution_count": 299,
   "id": "2a3058f5",
   "metadata": {},
   "outputs": [
    {
     "data": {
      "text/plain": [
       "['Age_24',\n",
       " 'Age_25',\n",
       " 'Age_28',\n",
       " 'Age_31',\n",
       " 'Gender_0',\n",
       " 'Gender_1',\n",
       " 'Ethnicity_Bengali',\n",
       " 'Ethnicity_English',\n",
       " 'Ethnicity_Han Chinese']"
      ]
     },
     "execution_count": 299,
     "metadata": {},
     "output_type": "execute_result"
    }
   ],
   "source": [
    "encoded_cols"
   ]
  },
  {
   "cell_type": "code",
   "execution_count": 300,
   "id": "886db9c8",
   "metadata": {},
   "outputs": [
    {
     "data": {
      "text/plain": [
       "['Attention',\n",
       " 'Mediation',\n",
       " 'Raw',\n",
       " 'Delta',\n",
       " 'Theta',\n",
       " 'Alpha1',\n",
       " 'Alpha2',\n",
       " 'Beta1',\n",
       " 'Beta2',\n",
       " 'Gamma1',\n",
       " 'Gamma2']"
      ]
     },
     "execution_count": 300,
     "metadata": {},
     "output_type": "execute_result"
    }
   ],
   "source": [
    "numeric_cols"
   ]
  },
  {
   "cell_type": "code",
   "execution_count": 301,
   "id": "188b5bf0",
   "metadata": {},
   "outputs": [],
   "source": [
    "X = inputs[numeric_cols + encoded_cols]"
   ]
  },
  {
   "cell_type": "code",
   "execution_count": 302,
   "id": "03a407ec",
   "metadata": {},
   "outputs": [
    {
     "data": {
      "text/html": [
       "<div>\n",
       "<style scoped>\n",
       "    .dataframe tbody tr th:only-of-type {\n",
       "        vertical-align: middle;\n",
       "    }\n",
       "\n",
       "    .dataframe tbody tr th {\n",
       "        vertical-align: top;\n",
       "    }\n",
       "\n",
       "    .dataframe thead th {\n",
       "        text-align: right;\n",
       "    }\n",
       "</style>\n",
       "<table border=\"1\" class=\"dataframe\">\n",
       "  <thead>\n",
       "    <tr style=\"text-align: right;\">\n",
       "      <th></th>\n",
       "      <th>Attention</th>\n",
       "      <th>Mediation</th>\n",
       "      <th>Raw</th>\n",
       "      <th>Delta</th>\n",
       "      <th>Theta</th>\n",
       "      <th>Alpha1</th>\n",
       "      <th>Alpha2</th>\n",
       "      <th>Beta1</th>\n",
       "      <th>Beta2</th>\n",
       "      <th>Gamma1</th>\n",
       "      <th>Gamma2</th>\n",
       "      <th>Age_24</th>\n",
       "      <th>Age_25</th>\n",
       "      <th>Age_28</th>\n",
       "      <th>Age_31</th>\n",
       "      <th>Gender_0</th>\n",
       "      <th>Gender_1</th>\n",
       "      <th>Ethnicity_Bengali</th>\n",
       "      <th>Ethnicity_English</th>\n",
       "      <th>Ethnicity_Han Chinese</th>\n",
       "    </tr>\n",
       "  </thead>\n",
       "  <tbody>\n",
       "    <tr>\n",
       "      <th>0</th>\n",
       "      <td>0.56</td>\n",
       "      <td>0.43</td>\n",
       "      <td>0.567805</td>\n",
       "      <td>0.076158</td>\n",
       "      <td>0.030094</td>\n",
       "      <td>0.024597</td>\n",
       "      <td>0.023527</td>\n",
       "      <td>0.026072</td>\n",
       "      <td>0.027332</td>\n",
       "      <td>0.016852</td>\n",
       "      <td>0.006139</td>\n",
       "      <td>0.0</td>\n",
       "      <td>1.0</td>\n",
       "      <td>0.0</td>\n",
       "      <td>0.0</td>\n",
       "      <td>0.0</td>\n",
       "      <td>1.0</td>\n",
       "      <td>0.0</td>\n",
       "      <td>0.0</td>\n",
       "      <td>1.0</td>\n",
       "    </tr>\n",
       "    <tr>\n",
       "      <th>1</th>\n",
       "      <td>0.40</td>\n",
       "      <td>0.35</td>\n",
       "      <td>0.487805</td>\n",
       "      <td>0.018525</td>\n",
       "      <td>0.009330</td>\n",
       "      <td>0.001050</td>\n",
       "      <td>0.002194</td>\n",
       "      <td>0.002567</td>\n",
       "      <td>0.002235</td>\n",
       "      <td>0.002685</td>\n",
       "      <td>0.002028</td>\n",
       "      <td>0.0</td>\n",
       "      <td>1.0</td>\n",
       "      <td>0.0</td>\n",
       "      <td>0.0</td>\n",
       "      <td>0.0</td>\n",
       "      <td>1.0</td>\n",
       "      <td>0.0</td>\n",
       "      <td>0.0</td>\n",
       "      <td>1.0</td>\n",
       "    </tr>\n",
       "    <tr>\n",
       "      <th>2</th>\n",
       "      <td>0.47</td>\n",
       "      <td>0.48</td>\n",
       "      <td>0.524634</td>\n",
       "      <td>0.191323</td>\n",
       "      <td>0.127570</td>\n",
       "      <td>0.147444</td>\n",
       "      <td>0.060881</td>\n",
       "      <td>0.033923</td>\n",
       "      <td>0.079393</td>\n",
       "      <td>0.029035</td>\n",
       "      <td>0.018813</td>\n",
       "      <td>0.0</td>\n",
       "      <td>1.0</td>\n",
       "      <td>0.0</td>\n",
       "      <td>0.0</td>\n",
       "      <td>0.0</td>\n",
       "      <td>1.0</td>\n",
       "      <td>0.0</td>\n",
       "      <td>0.0</td>\n",
       "      <td>1.0</td>\n",
       "    </tr>\n",
       "    <tr>\n",
       "      <th>3</th>\n",
       "      <td>0.47</td>\n",
       "      <td>0.57</td>\n",
       "      <td>0.498780</td>\n",
       "      <td>0.507520</td>\n",
       "      <td>0.042852</td>\n",
       "      <td>0.044670</td>\n",
       "      <td>0.016763</td>\n",
       "      <td>0.010745</td>\n",
       "      <td>0.037878</td>\n",
       "      <td>0.025380</td>\n",
       "      <td>0.025110</td>\n",
       "      <td>0.0</td>\n",
       "      <td>1.0</td>\n",
       "      <td>0.0</td>\n",
       "      <td>0.0</td>\n",
       "      <td>0.0</td>\n",
       "      <td>1.0</td>\n",
       "      <td>0.0</td>\n",
       "      <td>0.0</td>\n",
       "      <td>1.0</td>\n",
       "    </tr>\n",
       "    <tr>\n",
       "      <th>4</th>\n",
       "      <td>0.44</td>\n",
       "      <td>0.53</td>\n",
       "      <td>0.498049</td>\n",
       "      <td>0.254966</td>\n",
       "      <td>0.117603</td>\n",
       "      <td>0.027079</td>\n",
       "      <td>0.087155</td>\n",
       "      <td>0.042334</td>\n",
       "      <td>0.060362</td>\n",
       "      <td>0.022741</td>\n",
       "      <td>0.021999</td>\n",
       "      <td>0.0</td>\n",
       "      <td>1.0</td>\n",
       "      <td>0.0</td>\n",
       "      <td>0.0</td>\n",
       "      <td>0.0</td>\n",
       "      <td>1.0</td>\n",
       "      <td>0.0</td>\n",
       "      <td>0.0</td>\n",
       "      <td>1.0</td>\n",
       "    </tr>\n",
       "    <tr>\n",
       "      <th>...</th>\n",
       "      <td>...</td>\n",
       "      <td>...</td>\n",
       "      <td>...</td>\n",
       "      <td>...</td>\n",
       "      <td>...</td>\n",
       "      <td>...</td>\n",
       "      <td>...</td>\n",
       "      <td>...</td>\n",
       "      <td>...</td>\n",
       "      <td>...</td>\n",
       "      <td>...</td>\n",
       "      <td>...</td>\n",
       "      <td>...</td>\n",
       "      <td>...</td>\n",
       "      <td>...</td>\n",
       "      <td>...</td>\n",
       "      <td>...</td>\n",
       "      <td>...</td>\n",
       "      <td>...</td>\n",
       "      <td>...</td>\n",
       "    </tr>\n",
       "    <tr>\n",
       "      <th>12806</th>\n",
       "      <td>0.64</td>\n",
       "      <td>0.38</td>\n",
       "      <td>0.490488</td>\n",
       "      <td>0.032214</td>\n",
       "      <td>0.003300</td>\n",
       "      <td>0.000516</td>\n",
       "      <td>0.021273</td>\n",
       "      <td>0.003614</td>\n",
       "      <td>0.024059</td>\n",
       "      <td>0.001319</td>\n",
       "      <td>0.000710</td>\n",
       "      <td>1.0</td>\n",
       "      <td>0.0</td>\n",
       "      <td>0.0</td>\n",
       "      <td>0.0</td>\n",
       "      <td>1.0</td>\n",
       "      <td>0.0</td>\n",
       "      <td>0.0</td>\n",
       "      <td>0.0</td>\n",
       "      <td>1.0</td>\n",
       "    </tr>\n",
       "    <tr>\n",
       "      <th>12807</th>\n",
       "      <td>0.61</td>\n",
       "      <td>0.35</td>\n",
       "      <td>0.432927</td>\n",
       "      <td>0.081462</td>\n",
       "      <td>0.264780</td>\n",
       "      <td>0.111678</td>\n",
       "      <td>0.143136</td>\n",
       "      <td>0.037194</td>\n",
       "      <td>0.346060</td>\n",
       "      <td>0.018578</td>\n",
       "      <td>0.007406</td>\n",
       "      <td>1.0</td>\n",
       "      <td>0.0</td>\n",
       "      <td>0.0</td>\n",
       "      <td>0.0</td>\n",
       "      <td>1.0</td>\n",
       "      <td>0.0</td>\n",
       "      <td>0.0</td>\n",
       "      <td>0.0</td>\n",
       "      <td>1.0</td>\n",
       "    </tr>\n",
       "    <tr>\n",
       "      <th>12808</th>\n",
       "      <td>0.60</td>\n",
       "      <td>0.29</td>\n",
       "      <td>0.396098</td>\n",
       "      <td>0.171876</td>\n",
       "      <td>0.051157</td>\n",
       "      <td>0.029269</td>\n",
       "      <td>0.038331</td>\n",
       "      <td>0.010278</td>\n",
       "      <td>0.016362</td>\n",
       "      <td>0.010355</td>\n",
       "      <td>0.001495</td>\n",
       "      <td>1.0</td>\n",
       "      <td>0.0</td>\n",
       "      <td>0.0</td>\n",
       "      <td>0.0</td>\n",
       "      <td>1.0</td>\n",
       "      <td>0.0</td>\n",
       "      <td>0.0</td>\n",
       "      <td>0.0</td>\n",
       "      <td>1.0</td>\n",
       "    </tr>\n",
       "    <tr>\n",
       "      <th>12809</th>\n",
       "      <td>0.60</td>\n",
       "      <td>0.29</td>\n",
       "      <td>0.479512</td>\n",
       "      <td>0.092322</td>\n",
       "      <td>0.009064</td>\n",
       "      <td>0.008320</td>\n",
       "      <td>0.009733</td>\n",
       "      <td>0.001810</td>\n",
       "      <td>0.001987</td>\n",
       "      <td>0.006243</td>\n",
       "      <td>0.001302</td>\n",
       "      <td>1.0</td>\n",
       "      <td>0.0</td>\n",
       "      <td>0.0</td>\n",
       "      <td>0.0</td>\n",
       "      <td>1.0</td>\n",
       "      <td>0.0</td>\n",
       "      <td>0.0</td>\n",
       "      <td>0.0</td>\n",
       "      <td>1.0</td>\n",
       "    </tr>\n",
       "    <tr>\n",
       "      <th>12810</th>\n",
       "      <td>0.64</td>\n",
       "      <td>0.29</td>\n",
       "      <td>0.488049</td>\n",
       "      <td>0.292849</td>\n",
       "      <td>0.392023</td>\n",
       "      <td>0.036495</td>\n",
       "      <td>0.121567</td>\n",
       "      <td>0.009904</td>\n",
       "      <td>0.269696</td>\n",
       "      <td>0.011218</td>\n",
       "      <td>0.003317</td>\n",
       "      <td>1.0</td>\n",
       "      <td>0.0</td>\n",
       "      <td>0.0</td>\n",
       "      <td>0.0</td>\n",
       "      <td>1.0</td>\n",
       "      <td>0.0</td>\n",
       "      <td>0.0</td>\n",
       "      <td>0.0</td>\n",
       "      <td>1.0</td>\n",
       "    </tr>\n",
       "  </tbody>\n",
       "</table>\n",
       "<p>12811 rows × 20 columns</p>\n",
       "</div>"
      ],
      "text/plain": [
       "       Attention  Mediation       Raw     Delta     Theta    Alpha1    Alpha2  \\\n",
       "0           0.56       0.43  0.567805  0.076158  0.030094  0.024597  0.023527   \n",
       "1           0.40       0.35  0.487805  0.018525  0.009330  0.001050  0.002194   \n",
       "2           0.47       0.48  0.524634  0.191323  0.127570  0.147444  0.060881   \n",
       "3           0.47       0.57  0.498780  0.507520  0.042852  0.044670  0.016763   \n",
       "4           0.44       0.53  0.498049  0.254966  0.117603  0.027079  0.087155   \n",
       "...          ...        ...       ...       ...       ...       ...       ...   \n",
       "12806       0.64       0.38  0.490488  0.032214  0.003300  0.000516  0.021273   \n",
       "12807       0.61       0.35  0.432927  0.081462  0.264780  0.111678  0.143136   \n",
       "12808       0.60       0.29  0.396098  0.171876  0.051157  0.029269  0.038331   \n",
       "12809       0.60       0.29  0.479512  0.092322  0.009064  0.008320  0.009733   \n",
       "12810       0.64       0.29  0.488049  0.292849  0.392023  0.036495  0.121567   \n",
       "\n",
       "          Beta1     Beta2    Gamma1    Gamma2  Age_24  Age_25  Age_28  Age_31  \\\n",
       "0      0.026072  0.027332  0.016852  0.006139     0.0     1.0     0.0     0.0   \n",
       "1      0.002567  0.002235  0.002685  0.002028     0.0     1.0     0.0     0.0   \n",
       "2      0.033923  0.079393  0.029035  0.018813     0.0     1.0     0.0     0.0   \n",
       "3      0.010745  0.037878  0.025380  0.025110     0.0     1.0     0.0     0.0   \n",
       "4      0.042334  0.060362  0.022741  0.021999     0.0     1.0     0.0     0.0   \n",
       "...         ...       ...       ...       ...     ...     ...     ...     ...   \n",
       "12806  0.003614  0.024059  0.001319  0.000710     1.0     0.0     0.0     0.0   \n",
       "12807  0.037194  0.346060  0.018578  0.007406     1.0     0.0     0.0     0.0   \n",
       "12808  0.010278  0.016362  0.010355  0.001495     1.0     0.0     0.0     0.0   \n",
       "12809  0.001810  0.001987  0.006243  0.001302     1.0     0.0     0.0     0.0   \n",
       "12810  0.009904  0.269696  0.011218  0.003317     1.0     0.0     0.0     0.0   \n",
       "\n",
       "       Gender_0  Gender_1  Ethnicity_Bengali  Ethnicity_English  \\\n",
       "0           0.0       1.0                0.0                0.0   \n",
       "1           0.0       1.0                0.0                0.0   \n",
       "2           0.0       1.0                0.0                0.0   \n",
       "3           0.0       1.0                0.0                0.0   \n",
       "4           0.0       1.0                0.0                0.0   \n",
       "...         ...       ...                ...                ...   \n",
       "12806       1.0       0.0                0.0                0.0   \n",
       "12807       1.0       0.0                0.0                0.0   \n",
       "12808       1.0       0.0                0.0                0.0   \n",
       "12809       1.0       0.0                0.0                0.0   \n",
       "12810       1.0       0.0                0.0                0.0   \n",
       "\n",
       "       Ethnicity_Han Chinese  \n",
       "0                        1.0  \n",
       "1                        1.0  \n",
       "2                        1.0  \n",
       "3                        1.0  \n",
       "4                        1.0  \n",
       "...                      ...  \n",
       "12806                    1.0  \n",
       "12807                    1.0  \n",
       "12808                    1.0  \n",
       "12809                    1.0  \n",
       "12810                    1.0  \n",
       "\n",
       "[12811 rows x 20 columns]"
      ]
     },
     "execution_count": 302,
     "metadata": {},
     "output_type": "execute_result"
    }
   ],
   "source": [
    "X"
   ]
  },
  {
   "cell_type": "code",
   "execution_count": 303,
   "id": "873ce7be",
   "metadata": {},
   "outputs": [],
   "source": [
    "X_train_val,X_test,Y_train_val,Y_test = train_test_split(X,targets,test_size=0.2,random_state=123)\n",
    "X_train, X_val, train_targets, val_targets = train_test_split(X_train_val,Y_train_val, test_size=0.25,random_state=123)"
   ]
  },
  {
   "cell_type": "markdown",
   "id": "7a5baa91",
   "metadata": {},
   "source": [
    "# **MACHINE LEARNING ALGORITHMS"
   ]
  },
  {
   "cell_type": "markdown",
   "id": "f7373b32",
   "metadata": {},
   "source": [
    "### 1) XG boost classifier"
   ]
  },
  {
   "cell_type": "code",
   "execution_count": 304,
   "id": "31201ed5",
   "metadata": {},
   "outputs": [],
   "source": [
    "from xgboost import XGBClassifier\n",
    "model = XGBClassifier(n_jobs=-1, n_estimators=20, max_depth=4,random_state=42).fit(X_train, train_targets)"
   ]
  },
  {
   "cell_type": "code",
   "execution_count": 305,
   "id": "4c3263f6",
   "metadata": {},
   "outputs": [],
   "source": [
    "# %%time\n",
    "# model.fit(X_train, train_targets)"
   ]
  },
  {
   "cell_type": "markdown",
   "id": "0c32c0cd",
   "metadata": {},
   "source": [
    "#### ->Feature importance"
   ]
  },
  {
   "cell_type": "code",
   "execution_count": 306,
   "id": "b53169fd",
   "metadata": {},
   "outputs": [],
   "source": [
    "importance_df = pd.DataFrame({\n",
    "    'feature': X.columns,\n",
    "    'importance': model.feature_importances_\n",
    "}).sort_values('importance', ascending=False)"
   ]
  },
  {
   "cell_type": "code",
   "execution_count": 307,
   "id": "e17a74ca",
   "metadata": {},
   "outputs": [
    {
     "data": {
      "text/html": [
       "<div>\n",
       "<style scoped>\n",
       "    .dataframe tbody tr th:only-of-type {\n",
       "        vertical-align: middle;\n",
       "    }\n",
       "\n",
       "    .dataframe tbody tr th {\n",
       "        vertical-align: top;\n",
       "    }\n",
       "\n",
       "    .dataframe thead th {\n",
       "        text-align: right;\n",
       "    }\n",
       "</style>\n",
       "<table border=\"1\" class=\"dataframe\">\n",
       "  <thead>\n",
       "    <tr style=\"text-align: right;\">\n",
       "      <th></th>\n",
       "      <th>feature</th>\n",
       "      <th>importance</th>\n",
       "    </tr>\n",
       "  </thead>\n",
       "  <tbody>\n",
       "    <tr>\n",
       "      <th>19</th>\n",
       "      <td>Ethnicity_Han Chinese</td>\n",
       "      <td>0.129478</td>\n",
       "    </tr>\n",
       "    <tr>\n",
       "      <th>4</th>\n",
       "      <td>Theta</td>\n",
       "      <td>0.105263</td>\n",
       "    </tr>\n",
       "    <tr>\n",
       "      <th>14</th>\n",
       "      <td>Age_31</td>\n",
       "      <td>0.092545</td>\n",
       "    </tr>\n",
       "    <tr>\n",
       "      <th>3</th>\n",
       "      <td>Delta</td>\n",
       "      <td>0.081219</td>\n",
       "    </tr>\n",
       "    <tr>\n",
       "      <th>9</th>\n",
       "      <td>Gamma1</td>\n",
       "      <td>0.072367</td>\n",
       "    </tr>\n",
       "    <tr>\n",
       "      <th>0</th>\n",
       "      <td>Attention</td>\n",
       "      <td>0.067831</td>\n",
       "    </tr>\n",
       "    <tr>\n",
       "      <th>11</th>\n",
       "      <td>Age_24</td>\n",
       "      <td>0.059634</td>\n",
       "    </tr>\n",
       "    <tr>\n",
       "      <th>15</th>\n",
       "      <td>Gender_0</td>\n",
       "      <td>0.056131</td>\n",
       "    </tr>\n",
       "    <tr>\n",
       "      <th>10</th>\n",
       "      <td>Gamma2</td>\n",
       "      <td>0.052673</td>\n",
       "    </tr>\n",
       "    <tr>\n",
       "      <th>2</th>\n",
       "      <td>Raw</td>\n",
       "      <td>0.048786</td>\n",
       "    </tr>\n",
       "  </tbody>\n",
       "</table>\n",
       "</div>"
      ],
      "text/plain": [
       "                  feature  importance\n",
       "19  Ethnicity_Han Chinese    0.129478\n",
       "4                   Theta    0.105263\n",
       "14                 Age_31    0.092545\n",
       "3                   Delta    0.081219\n",
       "9                  Gamma1    0.072367\n",
       "0               Attention    0.067831\n",
       "11                 Age_24    0.059634\n",
       "15               Gender_0    0.056131\n",
       "10                 Gamma2    0.052673\n",
       "2                     Raw    0.048786"
      ]
     },
     "execution_count": 307,
     "metadata": {},
     "output_type": "execute_result"
    }
   ],
   "source": [
    "importance_df.head(10)"
   ]
  },
  {
   "cell_type": "code",
   "execution_count": 308,
   "id": "50d894c6",
   "metadata": {},
   "outputs": [
    {
     "data": {
      "image/png": "[encoded data removed]",
      "text/plain": [
       "<Figure size 720x432 with 1 Axes>"
      ]
     },
     "metadata": {
      "needs_background": "light"
     },
     "output_type": "display_data"
    }
   ],
   "source": [
    "import seaborn as sns\n",
    "plt.figure(figsize=(10,6))\n",
    "plt.title('Feature Importance')\n",
    "sns.barplot(data=importance_df.head(10), x='importance', y='feature');"
   ]
  },
  {
   "cell_type": "code",
   "execution_count": 309,
   "id": "70e6730c",
   "metadata": {},
   "outputs": [],
   "source": [
    "from sklearn.metrics import mean_squared_error\n",
    "\n",
    "def rmse(a, b):\n",
    "    return mean_squared_error(a, b, squared=False)"
   ]
  },
  {
   "cell_type": "code",
   "execution_count": 310,
   "id": "bdf372ae",
   "metadata": {},
   "outputs": [
    {
     "name": "stdout",
     "output_type": "stream",
     "text": [
      "RMSE of training  :  0.5390067097459771  Accuracy of Testing:  0.7094717668488161\n",
      "RMSE of Validation:  0.5830684131343455  Accuracy of validation:  0.660031225604996\n",
      "RMSE of Testing   :  0.5785878917656798  Accuracy of Testing:  0.6652360515021459\n"
     ]
    }
   ],
   "source": [
    "train_preds = model.predict(X_train)\n",
    "val_preds = model.predict(X_val)\n",
    "test_preds = model.predict(X_test)\n",
    "print(\"RMSE of training  : \",rmse(train_preds, train_targets),\" Accuracy of Testing: \",accuracy_score(train_targets,train_preds))\n",
    "print(\"RMSE of Validation: \",rmse(val_preds, val_targets),\" Accuracy of validation: \",accuracy_score(val_targets,val_preds))\n",
    "print(\"RMSE of Testing   : \",rmse(test_preds, Y_test),\" Accuracy of Testing: \",accuracy_score(Y_test,test_preds))"
   ]
  },
  {
   "cell_type": "markdown",
   "id": "65a0b089",
   "metadata": {},
   "source": [
    "#### ->Applying K-fold"
   ]
  },
  {
   "cell_type": "code",
   "execution_count": 311,
   "id": "07d7281b",
   "metadata": {},
   "outputs": [],
   "source": [
    "from sklearn.model_selection import KFold"
   ]
  },
  {
   "cell_type": "code",
   "execution_count": 312,
   "id": "b89babd8",
   "metadata": {},
   "outputs": [],
   "source": [
    "def train_and_evaluate(X_train, train_targets, X_val, val_targets, **params):\n",
    "    model = XGBClassifier(random_state=42, n_jobs=-1, **params)\n",
    "    model.fit(X_train, train_targets)\n",
    "    train_rmse = rmse(model.predict(X_train), train_targets)\n",
    "    val_rmse = rmse(model.predict(X_val), val_targets)\n",
    "    return model, train_rmse, val_rmse"
   ]
  },
  {
   "cell_type": "code",
   "execution_count": 313,
   "id": "aa0eaa90",
   "metadata": {},
   "outputs": [],
   "source": [
    "kfold = KFold(n_splits=5)"
   ]
  },
  {
   "cell_type": "code",
   "execution_count": 314,
   "id": "a4b6ddd4",
   "metadata": {},
   "outputs": [
    {
     "name": "stdout",
     "output_type": "stream",
     "text": [
      "Train RMSE: 0.21047880436807012, Validation RMSE: 0.7105470407733575\n",
      "Train RMSE: 0.2533799232398346, Validation RMSE: 0.717789998840606\n",
      "Train RMSE: 0.2331239274250957, Validation RMSE: 0.667934002264994\n",
      "Train RMSE: 0.23706666770566256, Validation RMSE: 0.6906309552252771\n",
      "Train RMSE: 0.2661506699962039, Validation RMSE: 0.6591101800975286\n"
     ]
    }
   ],
   "source": [
    "models = []\n",
    "\n",
    "for train_idxs, val_idxs in kfold.split(X):\n",
    "    X_train, train_targets = X.iloc[train_idxs], targets.iloc[train_idxs]\n",
    "    X_val, val_targets = X.iloc[val_idxs], targets.iloc[val_idxs]\n",
    "    model, train_rmse, val_rmse = train_and_evaluate(X_train, \n",
    "                                                     train_targets, \n",
    "                                                     X_val, \n",
    "                                                     val_targets, \n",
    "                                                     max_depth=8, \n",
    "                                                     n_estimators=50)\n",
    "    models.append(model)\n",
    "    print('Train RMSE: {}, Validation RMSE: {}'.format(train_rmse, val_rmse))"
   ]
  },
  {
   "cell_type": "markdown",
   "id": "3549dfa3",
   "metadata": {},
   "source": [
    "#### ->Taking average of all the models of k-fold"
   ]
  },
  {
   "cell_type": "code",
   "execution_count": 315,
   "id": "9718ab4b",
   "metadata": {},
   "outputs": [],
   "source": [
    "import numpy as np\n",
    "\n",
    "def predict_avg(models, inputs):\n",
    "    return np.mean([model.predict(inputs) for model in models], axis=0)"
   ]
  },
  {
   "cell_type": "code",
   "execution_count": 316,
   "id": "518cc347",
   "metadata": {},
   "outputs": [],
   "source": [
    "preds = predict_avg(models, X_train)"
   ]
  },
  {
   "cell_type": "code",
   "execution_count": 317,
   "id": "60684600",
   "metadata": {},
   "outputs": [
    {
     "name": "stdout",
     "output_type": "stream",
     "text": [
      "RMSE of training  :  0.2368113542963277  Accuracy of Testing:  0.9435066835788858\n",
      "RMSE of Validation:  0.1962171525636517  Accuracy of validation:  0.9699453551912568\n",
      "RMSE of Testing   :  0.2295392252972431  Accuracy of Testing:  0.9504486929379633\n"
     ]
    }
   ],
   "source": [
    "train_preds = predict_avg(models, X_train)\n",
    "val_preds =predict_avg(models,X_val)\n",
    "test_preds = predict_avg(models, X_test)\n",
    "print(\"RMSE of training  : \",rmse(train_preds, train_targets),\" Accuracy of Testing: \",accuracy_score(train_targets,train_preds.round()))\n",
    "print(\"RMSE of Validation: \",rmse(val_preds, val_targets),\" Accuracy of validation: \",accuracy_score(val_targets,val_preds.round()))\n",
    "print(\"RMSE of Testing   : \",rmse(test_preds, Y_test),\" Accuracy of Testing: \",accuracy_score(Y_test,test_preds.round()))"
   ]
  },
  {
   "cell_type": "code",
   "execution_count": null,
   "id": "8a71f800",
   "metadata": {},
   "outputs": [],
   "source": []
  },
  {
   "cell_type": "markdown",
   "id": "f1c75f2d",
   "metadata": {},
   "source": [
    "### 2) Decision Tree"
   ]
  },
  {
   "cell_type": "code",
   "execution_count": 318,
   "id": "70988979",
   "metadata": {},
   "outputs": [],
   "source": [
    "from sklearn.tree import DecisionTreeClassifier\n",
    "model = DecisionTreeClassifier(max_leaf_nodes=128, random_state=42)"
   ]
  },
  {
   "cell_type": "code",
   "execution_count": 319,
   "id": "86c29331",
   "metadata": {},
   "outputs": [
    {
     "name": "stdout",
     "output_type": "stream",
     "text": [
      "Wall time: 83.2 ms\n"
     ]
    },
    {
     "data": {
      "text/html": [
       "<style>#sk-container-id-7 {color: black;background-color: white;}#sk-container-id-7 pre{padding: 0;}#sk-container-id-7 div.sk-toggleable {background-color: white;}#sk-container-id-7 label.sk-toggleable__label {cursor: pointer;display: block;width: 100%;margin-bottom: 0;padding: 0.3em;box-sizing: border-box;text-align: center;}#sk-container-id-7 label.sk-toggleable__label-arrow:before {content: \"▸\";float: left;margin-right: 0.25em;color: #696969;}#sk-container-id-7 label.sk-toggleable__label-arrow:hover:before {color: black;}#sk-container-id-7 div.sk-estimator:hover label.sk-toggleable__label-arrow:before {color: black;}#sk-container-id-7 div.sk-toggleable__content {max-height: 0;max-width: 0;overflow: hidden;text-align: left;background-color: #f0f8ff;}#sk-container-id-7 div.sk-toggleable__content pre {margin: 0.2em;color: black;border-radius: 0.25em;background-color: #f0f8ff;}#sk-container-id-7 input.sk-toggleable__control:checked~div.sk-toggleable__content {max-height: 200px;max-width: 100%;overflow: auto;}#sk-container-id-7 input.sk-toggleable__control:checked~label.sk-toggleable__label-arrow:before {content: \"▾\";}#sk-container-id-7 div.sk-estimator input.sk-toggleable__control:checked~label.sk-toggleable__label {background-color: #d4ebff;}#sk-container-id-7 div.sk-label input.sk-toggleable__control:checked~label.sk-toggleable__label {background-color: #d4ebff;}#sk-container-id-7 input.sk-hidden--visually {border: 0;clip: rect(1px 1px 1px 1px);clip: rect(1px, 1px, 1px, 1px);height: 1px;margin: -1px;overflow: hidden;padding: 0;position: absolute;width: 1px;}#sk-container-id-7 div.sk-estimator {font-family: monospace;background-color: #f0f8ff;border: 1px dotted black;border-radius: 0.25em;box-sizing: border-box;margin-bottom: 0.5em;}#sk-container-id-7 div.sk-estimator:hover {background-color: #d4ebff;}#sk-container-id-7 div.sk-parallel-item::after {content: \"\";width: 100%;border-bottom: 1px solid gray;flex-grow: 1;}#sk-container-id-7 div.sk-label:hover label.sk-toggleable__label {background-color: #d4ebff;}#sk-container-id-7 div.sk-serial::before {content: \"\";position: absolute;border-left: 1px solid gray;box-sizing: border-box;top: 0;bottom: 0;left: 50%;z-index: 0;}#sk-container-id-7 div.sk-serial {display: flex;flex-direction: column;align-items: center;background-color: white;padding-right: 0.2em;padding-left: 0.2em;position: relative;}#sk-container-id-7 div.sk-item {position: relative;z-index: 1;}#sk-container-id-7 div.sk-parallel {display: flex;align-items: stretch;justify-content: center;background-color: white;position: relative;}#sk-container-id-7 div.sk-item::before, #sk-container-id-7 div.sk-parallel-item::before {content: \"\";position: absolute;border-left: 1px solid gray;box-sizing: border-box;top: 0;bottom: 0;left: 50%;z-index: -1;}#sk-container-id-7 div.sk-parallel-item {display: flex;flex-direction: column;z-index: 1;position: relative;background-color: white;}#sk-container-id-7 div.sk-parallel-item:first-child::after {align-self: flex-end;width: 50%;}#sk-container-id-7 div.sk-parallel-item:last-child::after {align-self: flex-start;width: 50%;}#sk-container-id-7 div.sk-parallel-item:only-child::after {width: 0;}#sk-container-id-7 div.sk-dashed-wrapped {border: 1px dashed gray;margin: 0 0.4em 0.5em 0.4em;box-sizing: border-box;padding-bottom: 0.4em;background-color: white;}#sk-container-id-7 div.sk-label label {font-family: monospace;font-weight: bold;display: inline-block;line-height: 1.2em;}#sk-container-id-7 div.sk-label-container {text-align: center;}#sk-container-id-7 div.sk-container {/* jupyter's `normalize.less` sets `[hidden] { display: none; }` but bootstrap.min.css set `[hidden] { display: none !important; }` so we also need the `!important` here to be able to override the default hidden behavior on the sphinx rendered scikit-learn.org. See: https://github.com/scikit-learn/scikit-learn/issues/21755 */display: inline-block !important;position: relative;}#sk-container-id-7 div.sk-text-repr-fallback {display: none;}</style><div id=\"sk-container-id-7\" class=\"sk-top-container\"><div class=\"sk-text-repr-fallback\"><pre>DecisionTreeClassifier(max_leaf_nodes=128, random_state=42)</pre><b>In a Jupyter environment, please rerun this cell to show the HTML representation or trust the notebook. <br />On GitHub, the HTML representation is unable to render, please try loading this page with nbviewer.org.</b></div><div class=\"sk-container\" hidden><div class=\"sk-item\"><div class=\"sk-estimator sk-toggleable\"><input class=\"sk-toggleable__control sk-hidden--visually\" id=\"sk-estimator-id-7\" type=\"checkbox\" checked><label for=\"sk-estimator-id-7\" class=\"sk-toggleable__label sk-toggleable__label-arrow\">DecisionTreeClassifier</label><div class=\"sk-toggleable__content\"><pre>DecisionTreeClassifier(max_leaf_nodes=128, random_state=42)</pre></div></div></div></div></div>"
      ],
      "text/plain": [
       "DecisionTreeClassifier(max_leaf_nodes=128, random_state=42)"
      ]
     },
     "execution_count": 319,
     "metadata": {},
     "output_type": "execute_result"
    }
   ],
   "source": [
    "%%time\n",
    "model.fit(X_train, train_targets)"
   ]
  },
  {
   "cell_type": "code",
   "execution_count": 320,
   "id": "360bf215",
   "metadata": {},
   "outputs": [
    {
     "data": {
      "text/plain": [
       "0.7285588837935408"
      ]
     },
     "execution_count": 320,
     "metadata": {},
     "output_type": "execute_result"
    }
   ],
   "source": [
    "model.score(X_train, train_targets)"
   ]
  },
  {
   "cell_type": "code",
   "execution_count": 321,
   "id": "8dc1048e",
   "metadata": {},
   "outputs": [
    {
     "name": "stdout",
     "output_type": "stream",
     "text": [
      "Accuracy score of training:  0.7285588837935408\n",
      "Accuracy score of Validation:  0.546448087431694\n",
      "Accuracy score of testing:  0.6902067889192353\n"
     ]
    }
   ],
   "source": [
    "train_preds = model.predict(X_train)\n",
    "val_preds = model.predict(X_val)\n",
    "test_preds = model.predict(X_test)\n",
    "print(\"Accuracy score of training: \",accuracy_score(train_targets, train_preds))\n",
    "\n",
    "print(\"Accuracy score of Validation: \",accuracy_score(val_targets,val_preds))\n",
    "print(\"Accuracy score of testing: \",accuracy_score(Y_test,test_preds))"
   ]
  },
  {
   "cell_type": "code",
   "execution_count": 322,
   "id": "36f7881e",
   "metadata": {},
   "outputs": [],
   "source": [
    "def max_depth_error(md):\n",
    "    model = DecisionTreeClassifier(max_leaf_nodes=500,max_depth=md, random_state=42).fit(X_train, train_targets)\n",
    "    train_acc = 1 - model.score(X_train, train_targets)\n",
    "    val_acc = 1 - model.score(X_val, val_targets)\n",
    "    test_acc = 1 - model.score(X_test, Y_test)\n",
    "    return {'Max Depth': md, 'Training Error': train_acc, 'Validation Error': val_acc,'Testing Error':test_acc}"
   ]
  },
  {
   "cell_type": "code",
   "execution_count": 323,
   "id": "19706d15",
   "metadata": {},
   "outputs": [
    {
     "name": "stdout",
     "output_type": "stream",
     "text": [
      "Wall time: 2.03 s\n"
     ]
    }
   ],
   "source": [
    "%%time\n",
    "errors_df = pd.DataFrame([max_depth_error(md) for md in range(1, 21)])"
   ]
  },
  {
   "cell_type": "code",
   "execution_count": 324,
   "id": "dd86c5c8",
   "metadata": {},
   "outputs": [
    {
     "data": {
      "text/html": [
       "<div>\n",
       "<style scoped>\n",
       "    .dataframe tbody tr th:only-of-type {\n",
       "        vertical-align: middle;\n",
       "    }\n",
       "\n",
       "    .dataframe tbody tr th {\n",
       "        vertical-align: top;\n",
       "    }\n",
       "\n",
       "    .dataframe thead th {\n",
       "        text-align: right;\n",
       "    }\n",
       "</style>\n",
       "<table border=\"1\" class=\"dataframe\">\n",
       "  <thead>\n",
       "    <tr style=\"text-align: right;\">\n",
       "      <th></th>\n",
       "      <th>Max Depth</th>\n",
       "      <th>Training Error</th>\n",
       "      <th>Validation Error</th>\n",
       "      <th>Testing Error</th>\n",
       "    </tr>\n",
       "  </thead>\n",
       "  <tbody>\n",
       "    <tr>\n",
       "      <th>0</th>\n",
       "      <td>1</td>\n",
       "      <td>0.418480</td>\n",
       "      <td>0.434817</td>\n",
       "      <td>0.426453</td>\n",
       "    </tr>\n",
       "    <tr>\n",
       "      <th>1</th>\n",
       "      <td>2</td>\n",
       "      <td>0.402673</td>\n",
       "      <td>0.460578</td>\n",
       "      <td>0.417089</td>\n",
       "    </tr>\n",
       "    <tr>\n",
       "      <th>2</th>\n",
       "      <td>3</td>\n",
       "      <td>0.378183</td>\n",
       "      <td>0.460968</td>\n",
       "      <td>0.387437</td>\n",
       "    </tr>\n",
       "    <tr>\n",
       "      <th>3</th>\n",
       "      <td>4</td>\n",
       "      <td>0.351156</td>\n",
       "      <td>0.437549</td>\n",
       "      <td>0.364417</td>\n",
       "    </tr>\n",
       "    <tr>\n",
       "      <th>4</th>\n",
       "      <td>5</td>\n",
       "      <td>0.337887</td>\n",
       "      <td>0.462139</td>\n",
       "      <td>0.359735</td>\n",
       "    </tr>\n",
       "    <tr>\n",
       "      <th>5</th>\n",
       "      <td>6</td>\n",
       "      <td>0.316616</td>\n",
       "      <td>0.469555</td>\n",
       "      <td>0.341787</td>\n",
       "    </tr>\n",
       "    <tr>\n",
       "      <th>6</th>\n",
       "      <td>7</td>\n",
       "      <td>0.297785</td>\n",
       "      <td>0.459407</td>\n",
       "      <td>0.316426</td>\n",
       "    </tr>\n",
       "    <tr>\n",
       "      <th>7</th>\n",
       "      <td>8</td>\n",
       "      <td>0.273393</td>\n",
       "      <td>0.447307</td>\n",
       "      <td>0.311354</td>\n",
       "    </tr>\n",
       "    <tr>\n",
       "      <th>8</th>\n",
       "      <td>9</td>\n",
       "      <td>0.242365</td>\n",
       "      <td>0.444965</td>\n",
       "      <td>0.277019</td>\n",
       "    </tr>\n",
       "    <tr>\n",
       "      <th>9</th>\n",
       "      <td>10</td>\n",
       "      <td>0.213777</td>\n",
       "      <td>0.457455</td>\n",
       "      <td>0.255560</td>\n",
       "    </tr>\n",
       "    <tr>\n",
       "      <th>10</th>\n",
       "      <td>11</td>\n",
       "      <td>0.189970</td>\n",
       "      <td>0.446916</td>\n",
       "      <td>0.233710</td>\n",
       "    </tr>\n",
       "    <tr>\n",
       "      <th>11</th>\n",
       "      <td>12</td>\n",
       "      <td>0.177188</td>\n",
       "      <td>0.459016</td>\n",
       "      <td>0.226297</td>\n",
       "    </tr>\n",
       "    <tr>\n",
       "      <th>12</th>\n",
       "      <td>13</td>\n",
       "      <td>0.171529</td>\n",
       "      <td>0.448478</td>\n",
       "      <td>0.216543</td>\n",
       "    </tr>\n",
       "    <tr>\n",
       "      <th>13</th>\n",
       "      <td>14</td>\n",
       "      <td>0.166650</td>\n",
       "      <td>0.447697</td>\n",
       "      <td>0.214592</td>\n",
       "    </tr>\n",
       "    <tr>\n",
       "      <th>14</th>\n",
       "      <td>15</td>\n",
       "      <td>0.168895</td>\n",
       "      <td>0.444965</td>\n",
       "      <td>0.217323</td>\n",
       "    </tr>\n",
       "    <tr>\n",
       "      <th>15</th>\n",
       "      <td>16</td>\n",
       "      <td>0.165187</td>\n",
       "      <td>0.437158</td>\n",
       "      <td>0.214982</td>\n",
       "    </tr>\n",
       "    <tr>\n",
       "      <th>16</th>\n",
       "      <td>17</td>\n",
       "      <td>0.164504</td>\n",
       "      <td>0.437549</td>\n",
       "      <td>0.213812</td>\n",
       "    </tr>\n",
       "    <tr>\n",
       "      <th>17</th>\n",
       "      <td>18</td>\n",
       "      <td>0.164797</td>\n",
       "      <td>0.439110</td>\n",
       "      <td>0.216153</td>\n",
       "    </tr>\n",
       "    <tr>\n",
       "      <th>18</th>\n",
       "      <td>19</td>\n",
       "      <td>0.164406</td>\n",
       "      <td>0.439110</td>\n",
       "      <td>0.214592</td>\n",
       "    </tr>\n",
       "    <tr>\n",
       "      <th>19</th>\n",
       "      <td>20</td>\n",
       "      <td>0.164406</td>\n",
       "      <td>0.439110</td>\n",
       "      <td>0.214592</td>\n",
       "    </tr>\n",
       "  </tbody>\n",
       "</table>\n",
       "</div>"
      ],
      "text/plain": [
       "    Max Depth  Training Error  Validation Error  Testing Error\n",
       "0           1        0.418480          0.434817       0.426453\n",
       "1           2        0.402673          0.460578       0.417089\n",
       "2           3        0.378183          0.460968       0.387437\n",
       "3           4        0.351156          0.437549       0.364417\n",
       "4           5        0.337887          0.462139       0.359735\n",
       "5           6        0.316616          0.469555       0.341787\n",
       "6           7        0.297785          0.459407       0.316426\n",
       "7           8        0.273393          0.447307       0.311354\n",
       "8           9        0.242365          0.444965       0.277019\n",
       "9          10        0.213777          0.457455       0.255560\n",
       "10         11        0.189970          0.446916       0.233710\n",
       "11         12        0.177188          0.459016       0.226297\n",
       "12         13        0.171529          0.448478       0.216543\n",
       "13         14        0.166650          0.447697       0.214592\n",
       "14         15        0.168895          0.444965       0.217323\n",
       "15         16        0.165187          0.437158       0.214982\n",
       "16         17        0.164504          0.437549       0.213812\n",
       "17         18        0.164797          0.439110       0.216153\n",
       "18         19        0.164406          0.439110       0.214592\n",
       "19         20        0.164406          0.439110       0.214592"
      ]
     },
     "execution_count": 324,
     "metadata": {},
     "output_type": "execute_result"
    }
   ],
   "source": [
    "errors_df"
   ]
  },
  {
   "cell_type": "code",
   "execution_count": 325,
   "id": "035ae657",
   "metadata": {},
   "outputs": [
    {
     "data": {
      "text/plain": [
       "<matplotlib.legend.Legend at 0x12621720fa0>"
      ]
     },
     "execution_count": 325,
     "metadata": {},
     "output_type": "execute_result"
    },
    {
     "data": {
      "image/png": "[encoded data removed]",
      "text/plain": [
       "<Figure size 432x288 with 1 Axes>"
      ]
     },
     "metadata": {
      "needs_background": "light"
     },
     "output_type": "display_data"
    }
   ],
   "source": [
    "plt.figure()\n",
    "plt.plot(errors_df['Max Depth'], errors_df['Training Error'])\n",
    "plt.plot(errors_df['Max Depth'], errors_df['Validation Error'])\n",
    "plt.plot(errors_df['Max Depth'], errors_df['Testing Error'])\n",
    "plt.title('Training vs. Validation Error vs Testing Error')\n",
    "plt.xticks(range(0,21, 2))\n",
    "plt.xlabel('Max. Depth')\n",
    "plt.ylabel('Prediction Error (1 - Accuracy)')\n",
    "plt.legend(['Training', 'Validation','Testing'])"
   ]
  },
  {
   "cell_type": "code",
   "execution_count": 326,
   "id": "2456fcaa",
   "metadata": {},
   "outputs": [
    {
     "name": "stdout",
     "output_type": "stream",
     "text": [
      "accuracy of Training dataset:  0.8100302468533516\n",
      "accuracy of validation dataset:  0.5530835284933645\n",
      "accuracy of Testing dataset:  0.7662895044869293\n"
     ]
    }
   ],
   "source": [
    "model = DecisionTreeClassifier(max_leaf_nodes=500,max_depth=11, random_state=42).fit(X_train, train_targets)\n",
    "print(\"accuracy of Training dataset: \",model.score(X_train, train_targets))\n",
    "print(\"accuracy of validation dataset: \",model.score(X_val, val_targets))\n",
    "print(\"accuracy of Testing dataset: \",model.score(X_test, Y_test))"
   ]
  },
  {
   "cell_type": "code",
   "execution_count": 327,
   "id": "c42f9815",
   "metadata": {},
   "outputs": [
    {
     "name": "stdout",
     "output_type": "stream",
     "text": [
      "Train RMSE: 0.4368827194323915, Validation RMSE: 0.6933157255384952\n",
      "Train RMSE: 0.45448513423725734, Validation RMSE: 0.7026769378603375\n",
      "Train RMSE: 0.45006260337944, Validation RMSE: 0.6579247291737801\n",
      "Train RMSE: 0.449737296070308, Validation RMSE: 0.6823868657178958\n",
      "Train RMSE: 0.43585519745283346, Validation RMSE: 0.6685181160646549\n",
      "RMSE of training  :  0.36009885786117163  Accuracy of Testing:  0.8276905063908674\n",
      "RMSE of Validation:  0.35359202819686364  Accuracy of validation:  0.836455893832943\n",
      "RMSE of Testing   :  0.35904238178204506  Accuracy of Testing:  0.8275458447132267\n"
     ]
    }
   ],
   "source": [
    "def train_and_evaluate(X_train, train_targets, X_val, val_targets, **params):\n",
    "    model = DecisionTreeClassifier(max_leaf_nodes=500,max_depth=11, random_state=42)\n",
    "    model.fit(X_train, train_targets)\n",
    "    train_rmse = rmse(model.predict(X_train), train_targets)\n",
    "    val_rmse = rmse(model.predict(X_val), val_targets)\n",
    "    return model, train_rmse, val_rmse\n",
    "kfold = KFold(n_splits=5)\n",
    "models = []\n",
    "\n",
    "for train_idxs, val_idxs in kfold.split(X):\n",
    "    X_train, train_targets = X.iloc[train_idxs], targets.iloc[train_idxs]\n",
    "    X_val, val_targets = X.iloc[val_idxs], targets.iloc[val_idxs]\n",
    "    model, train_rmse, val_rmse = train_and_evaluate(X_train, \n",
    "                                                     train_targets, \n",
    "                                                     X_val, \n",
    "                                                     val_targets, \n",
    "                                                     max_depth=8, \n",
    "                                                     n_estimators=50)\n",
    "    models.append(model)\n",
    "    print('Train RMSE: {}, Validation RMSE: {}'.format(train_rmse, val_rmse))\n",
    "def predict_avg(models, inputs):\n",
    "    return np.mean([model.predict(inputs) for model in models], axis=0)\n",
    "train_preds = predict_avg(models, X_train)\n",
    "val_preds =predict_avg(models,X_val)\n",
    "test_preds = predict_avg(models, X_test)\n",
    "print(\"RMSE of training  : \",rmse(train_preds, train_targets),\" Accuracy of Testing: \",accuracy_score(train_targets,train_preds.round()))\n",
    "print(\"RMSE of Validation: \",rmse(val_preds, val_targets),\" Accuracy of validation: \",accuracy_score(val_targets,val_preds.round()))\n",
    "print(\"RMSE of Testing   : \",rmse(test_preds, Y_test),\" Accuracy of Testing: \",accuracy_score(Y_test,test_preds.round()))"
   ]
  },
  {
   "cell_type": "markdown",
   "id": "0b14a8ee",
   "metadata": {},
   "source": [
    "### 3) Random Forest"
   ]
  },
  {
   "cell_type": "code",
   "execution_count": 328,
   "id": "a1a77fad",
   "metadata": {},
   "outputs": [],
   "source": [
    "from sklearn.ensemble import RandomForestClassifier"
   ]
  },
  {
   "cell_type": "code",
   "execution_count": 329,
   "id": "abe4fa6c",
   "metadata": {},
   "outputs": [
    {
     "name": "stdout",
     "output_type": "stream",
     "text": [
      "accuracy of Training dataset:  0.9557029954141868\n",
      "accuracy of validation dataset:  0.5714285714285714\n"
     ]
    }
   ],
   "source": [
    "model = RandomForestClassifier(n_jobs=-1, \n",
    "                               random_state=42, \n",
    "                               n_estimators=20,\n",
    "                               max_depth=15).fit(X_train, train_targets)\n",
    "print(\"accuracy of Training dataset: \",model.score(X_train, train_targets))\n",
    "print(\"accuracy of validation dataset: \",model.score(X_val, val_targets))"
   ]
  },
  {
   "cell_type": "markdown",
   "id": "ee4b254d",
   "metadata": {},
   "source": [
    "Applying K-FOLD"
   ]
  },
  {
   "cell_type": "code",
   "execution_count": 330,
   "id": "60d5209a",
   "metadata": {},
   "outputs": [
    {
     "name": "stdout",
     "output_type": "stream",
     "text": [
      "Train RMSE: 0.1730810931128249, Validation RMSE: 0.6950019438187365\n",
      "Train RMSE: 0.21505444538409665, Validation RMSE: 0.7048953393947149\n",
      "Train RMSE: 0.20025352260190007, Validation RMSE: 0.6525635510310624\n",
      "Train RMSE: 0.17137304017669996, Validation RMSE: 0.6746207770430073\n",
      "Train RMSE: 0.2104685358570569, Validation RMSE: 0.6546536707079771\n",
      "RMSE of training  :  0.20553374753965684  Accuracy of Testing:  0.9644843399356035\n",
      "RMSE of Validation:  0.18838232421876533  Accuracy of validation:  0.9718969555035128\n",
      "RMSE of Testing   :  0.20420854900453903  Accuracy of Testing:  0.9644947327350761\n"
     ]
    }
   ],
   "source": [
    "def train_and_evaluate(X_train, train_targets, X_val, val_targets, **params):\n",
    "    model = RandomForestClassifier(n_jobs=-1, \n",
    "                               random_state=42, \n",
    "                               n_estimators=20,\n",
    "                               max_depth=15)\n",
    "    model.fit(X_train, train_targets)\n",
    "    train_rmse = rmse(model.predict(X_train), train_targets)\n",
    "    val_rmse = rmse(model.predict(X_val), val_targets)\n",
    "    return model, train_rmse, val_rmse\n",
    "kfold = KFold(n_splits=5)\n",
    "models = []\n",
    "\n",
    "for train_idxs, val_idxs in kfold.split(X):\n",
    "    X_train, train_targets = X.iloc[train_idxs], targets.iloc[train_idxs]\n",
    "    X_val, val_targets = X.iloc[val_idxs], targets.iloc[val_idxs]\n",
    "    model, train_rmse, val_rmse = train_and_evaluate(X_train, \n",
    "                                                     train_targets, \n",
    "                                                     X_val, \n",
    "                                                     val_targets, \n",
    "                                                     max_depth=8, \n",
    "                                                     n_estimators=50)\n",
    "    models.append(model)\n",
    "    print('Train RMSE: {}, Validation RMSE: {}'.format(train_rmse, val_rmse))\n",
    "def predict_avg(models, inputs):\n",
    "    return np.mean([model.predict(inputs) for model in models], axis=0)\n",
    "train_preds = predict_avg(models, X_train)\n",
    "val_preds =predict_avg(models,X_val)\n",
    "test_preds = predict_avg(models, X_test)\n",
    "print(\"RMSE of training  : \",rmse(train_preds, train_targets),\" Accuracy of Testing: \",accuracy_score(train_targets,train_preds.round()))\n",
    "print(\"RMSE of Validation: \",rmse(val_preds, val_targets),\" Accuracy of validation: \",accuracy_score(val_targets,val_preds.round()))\n",
    "print(\"RMSE of Testing   : \",rmse(test_preds, Y_test),\" Accuracy of Testing: \",accuracy_score(Y_test,test_preds.round()))"
   ]
  },
  {
   "cell_type": "markdown",
   "id": "09924eb5",
   "metadata": {},
   "source": [
    "#### Calculatinf f1-score,precision,accuracy"
   ]
  },
  {
   "cell_type": "code",
   "execution_count": 331,
   "id": "d5f0fee1",
   "metadata": {},
   "outputs": [
    {
     "name": "stdout",
     "output_type": "stream",
     "text": [
      "Trainig Accuracy: 0.96448\n",
      "Test Accuracy: 0.96449\n"
     ]
    }
   ],
   "source": [
    "rfAccuracy=accuracy_score(Y_test,test_preds.round())\n",
    "rfPrecision=precision_score(Y_test,test_preds.round(), average='binary')\n",
    "rfF1_score=f1_score(Y_test,test_preds.round(), average='binary')\n",
    "rfRecall=recall_score(Y_test, test_preds.round(), average='binary')\n",
    "\n",
    "\n",
    "print(\"Trainig Accuracy: %.5f\" %accuracy_score(train_targets,train_preds.round()))\n",
    "print(\"Test Accuracy: %.5f\" %accuracy_score(Y_test, test_preds.round()))"
   ]
  },
  {
   "cell_type": "markdown",
   "id": "b900911b",
   "metadata": {},
   "source": [
    "### 4) KNN classifier"
   ]
  },
  {
   "cell_type": "code",
   "execution_count": 332,
   "id": "169cd294",
   "metadata": {},
   "outputs": [],
   "source": [
    "from sklearn.neighbors import KNeighborsClassifier"
   ]
  },
  {
   "cell_type": "code",
   "execution_count": 334,
   "id": "4a3bb1e5",
   "metadata": {},
   "outputs": [],
   "source": [
    "\n",
    "K = []\n",
    "training = []\n",
    "test = []\n",
    "scores = {}\n",
    "  \n",
    "for k in range(2, 21):\n",
    "    clf = KNeighborsClassifier(n_neighbors = k)\n",
    "    clf.fit(X_train, train_targets)\n",
    "  \n",
    "    training_score = clf.score(X_train, train_targets)\n",
    "    test_score = clf.score(X_test,Y_test)\n",
    "    K.append(k)\n",
    "  \n",
    "    training.append(training_score)\n",
    "    test.append(test_score)\n",
    "    scores[k] = [training_score, test_score]"
   ]
  },
  {
   "cell_type": "code",
   "execution_count": 335,
   "id": "038186b8",
   "metadata": {},
   "outputs": [
    {
     "name": "stdout",
     "output_type": "stream",
     "text": [
      "2 : [0.7987120694701922, 0.7573156457276629]\n",
      "3 : [0.8024197482681237, 0.7604369879047991]\n",
      "4 : [0.7548053468631086, 0.7249317206398751]\n",
      "5 : [0.7599765830812762, 0.721810378462739]\n",
      "6 : [0.7364620938628159, 0.7058134998049161]\n",
      "7 : [0.7378280807883696, 0.702301989855638]\n",
      "8 : [0.721436237681725, 0.7003511509949278]\n",
      "9 : [0.7228997951019611, 0.6956691377292236]\n",
      "10 : [0.7125573226656259, 0.6870854467420991]\n",
      "11 : [0.7160698604741926, 0.6898166211470933]\n",
      "12 : [0.7109961947507074, 0.6835739367928209]\n",
      "13 : [0.7094350668357888, 0.6777214202106906]\n",
      "14 : [0.705629817543175, 0.685524775653531]\n",
      "15 : [0.7064103815006342, 0.6878657822863832]\n",
      "16 : [0.6999707288515953, 0.6796722590714007]\n",
      "17 : [0.6995804468728657, 0.6773312524385485]\n",
      "18 : [0.696555761537711, 0.6679672259071401]\n",
      "19 : [0.6930432237291443, 0.6699180647678502]\n",
      "20 : [0.6935310762025564, 0.6726492391728444]\n"
     ]
    }
   ],
   "source": [
    "for keys, values in scores.items():\n",
    "    print(keys, ':', values)"
   ]
  },
  {
   "cell_type": "code",
   "execution_count": 336,
   "id": "45e60590",
   "metadata": {},
   "outputs": [
    {
     "name": "stderr",
     "output_type": "stream",
     "text": [
      "c:\\users\\admin\\appdata\\local\\programs\\python\\python38\\lib\\site-packages\\seaborn\\_decorators.py:36: FutureWarning: Pass the following variables as keyword args: x, y. From version 0.12, the only valid positional argument will be `data`, and passing other arguments without an explicit keyword will result in an error or misinterpretation.\n",
      "  warnings.warn(\n"
     ]
    },
    {
     "data": {
      "image/png": "[encoded data removed]",
      "text/plain": [
       "<Figure size 432x288 with 1 Axes>"
      ]
     },
     "metadata": {
      "needs_background": "light"
     },
     "output_type": "display_data"
    }
   ],
   "source": [
    "ax = sns.stripplot(K, training);\n",
    "ax.set(xlabel ='values of k', ylabel ='Training Score')  \n",
    "  \n",
    "plt.show()"
   ]
  },
  {
   "cell_type": "code",
   "execution_count": 337,
   "id": "1b95020e",
   "metadata": {},
   "outputs": [
    {
     "name": "stderr",
     "output_type": "stream",
     "text": [
      "c:\\users\\admin\\appdata\\local\\programs\\python\\python38\\lib\\site-packages\\seaborn\\_decorators.py:36: FutureWarning: Pass the following variables as keyword args: x, y. From version 0.12, the only valid positional argument will be `data`, and passing other arguments without an explicit keyword will result in an error or misinterpretation.\n",
      "  warnings.warn(\n"
     ]
    },
    {
     "data": {
      "image/png": "[encoded data removed]",
      "text/plain": [
       "<Figure size 432x288 with 1 Axes>"
      ]
     },
     "metadata": {
      "needs_background": "light"
     },
     "output_type": "display_data"
    }
   ],
   "source": [
    "ax = sns.stripplot(K, test);\n",
    "ax.set(xlabel ='values of k', ylabel ='Test Score')\n",
    "plt.show()"
   ]
  },
  {
   "cell_type": "code",
   "execution_count": 338,
   "id": "fb5c44da",
   "metadata": {},
   "outputs": [
    {
     "data": {
      "image/png": "[encoded data removed]",
      "text/plain": [
       "<Figure size 432x288 with 1 Axes>"
      ]
     },
     "metadata": {
      "needs_background": "light"
     },
     "output_type": "display_data"
    }
   ],
   "source": [
    "plt.scatter(K, training, color ='k')\n",
    "plt.scatter(K, test, color ='g')\n",
    "plt.show()"
   ]
  },
  {
   "cell_type": "code",
   "execution_count": 340,
   "id": "7c0b4182",
   "metadata": {},
   "outputs": [
    {
     "name": "stdout",
     "output_type": "stream",
     "text": [
      "Training score:  0.8024197482681237\n",
      "Testing score:  0.7604369879047991\n"
     ]
    }
   ],
   "source": [
    "clf = KNeighborsClassifier(n_neighbors = 3)\n",
    "clf.fit(X_train, train_targets)\n",
    "  \n",
    "training_score = clf.score(X_train, train_targets)\n",
    "test_score = clf.score(X_test,Y_test)\n",
    "\n",
    "print(\"Training score: \",training_score)\n",
    "print(\"Testing score: \",test_score)"
   ]
  },
  {
   "cell_type": "markdown",
   "id": "51b97b5a",
   "metadata": {},
   "source": [
    "Applying K-FOLD"
   ]
  },
  {
   "cell_type": "code",
   "execution_count": 341,
   "id": "af7a3ad2",
   "metadata": {},
   "outputs": [
    {
     "name": "stdout",
     "output_type": "stream",
     "text": [
      "Train RMSE: 0.4423210726425647, Validation RMSE: 0.6805359252328851\n",
      "Train RMSE: 0.4498457579785701, Validation RMSE: 0.717789998840606\n",
      "Train RMSE: 0.443181007936585, Validation RMSE: 0.6798080272711059\n",
      "Train RMSE: 0.4436211083508279, Validation RMSE: 0.6841006905997105\n",
      "Train RMSE: 0.4445000019481173, Validation RMSE: 0.6962596624567611\n",
      "RMSE of training  :  0.4221776569718588  Accuracy of Testing:  0.7968582300712265\n",
      "RMSE of Validation:  0.4062355503945606  Accuracy of validation:  0.812256049960968\n",
      "RMSE of Testing   :  0.4113679206421393  Accuracy of Testing:  0.8095981271946937\n"
     ]
    }
   ],
   "source": [
    "def train_and_evaluate(X_train, train_targets, X_val, val_targets, **params):\n",
    "    model = KNeighborsClassifier(n_neighbors = 3)\n",
    "    model.fit(X_train, train_targets)\n",
    "    train_rmse = rmse(model.predict(X_train), train_targets)\n",
    "    val_rmse = rmse(model.predict(X_val), val_targets)\n",
    "    return model, train_rmse, val_rmse\n",
    "kfold = KFold(n_splits=5)\n",
    "models = []\n",
    "\n",
    "for train_idxs, val_idxs in kfold.split(X):\n",
    "    X_train, train_targets = X.iloc[train_idxs], targets.iloc[train_idxs]\n",
    "    X_val, val_targets = X.iloc[val_idxs], targets.iloc[val_idxs]\n",
    "    model, train_rmse, val_rmse = train_and_evaluate(X_train, \n",
    "                                                     train_targets, \n",
    "                                                     X_val, \n",
    "                                                     val_targets, \n",
    "                                                     max_depth=8, \n",
    "                                                     n_estimators=50)\n",
    "    models.append(model)\n",
    "    print('Train RMSE: {}, Validation RMSE: {}'.format(train_rmse, val_rmse))\n",
    "def predict_avg(models, inputs):\n",
    "    return np.mean([model.predict(inputs) for model in models], axis=0)\n",
    "train_preds = predict_avg(models, X_train)\n",
    "val_preds =predict_avg(models,X_val)\n",
    "test_preds = predict_avg(models, X_test)\n",
    "print(\"RMSE of training  : \",rmse(train_preds, train_targets),\" Accuracy of Testing: \",accuracy_score(train_targets,train_preds.round()))\n",
    "print(\"RMSE of Validation: \",rmse(val_preds, val_targets),\" Accuracy of validation: \",accuracy_score(val_targets,val_preds.round()))\n",
    "print(\"RMSE of Testing   : \",rmse(test_preds, Y_test),\" Accuracy of Testing: \",accuracy_score(Y_test,test_preds.round()))"
   ]
  },
  {
   "cell_type": "markdown",
   "id": "9a996b45",
   "metadata": {},
   "source": [
    "#### Calcualtin gf1-score,accuracy,precision"
   ]
  },
  {
   "cell_type": "code",
   "execution_count": 342,
   "id": "33979eb9",
   "metadata": {},
   "outputs": [
    {
     "name": "stdout",
     "output_type": "stream",
     "text": [
      "Trainig Accuracy: 0.79686\n",
      "Test Accuracy: 0.80960\n"
     ]
    }
   ],
   "source": [
    "KnAccuracy=accuracy_score(Y_test,test_preds.round())\n",
    "KnPrecision=precision_score(Y_test,test_preds.round(), average='binary')\n",
    "KnF1_score=f1_score(Y_test,test_preds.round(), average='binary')\n",
    "KnRecall=recall_score(Y_test, test_preds.round(), average='binary')\n",
    "\n",
    "\n",
    "print(\"Trainig Accuracy: %.5f\" %accuracy_score(train_targets,train_preds.round()))\n",
    "print(\"Test Accuracy: %.5f\" %accuracy_score(Y_test, test_preds.round()))"
   ]
  },
  {
   "cell_type": "code",
   "execution_count": null,
   "id": "05cbe070",
   "metadata": {},
   "outputs": [],
   "source": []
  },
  {
   "cell_type": "markdown",
   "id": "8dffe37d",
   "metadata": {},
   "source": [
    "### 5)Naive Bayes"
   ]
  },
  {
   "cell_type": "code",
   "execution_count": 344,
   "id": "662b708f",
   "metadata": {},
   "outputs": [
    {
     "data": {
      "text/html": [
       "<style>#sk-container-id-8 {color: black;background-color: white;}#sk-container-id-8 pre{padding: 0;}#sk-container-id-8 div.sk-toggleable {background-color: white;}#sk-container-id-8 label.sk-toggleable__label {cursor: pointer;display: block;width: 100%;margin-bottom: 0;padding: 0.3em;box-sizing: border-box;text-align: center;}#sk-container-id-8 label.sk-toggleable__label-arrow:before {content: \"▸\";float: left;margin-right: 0.25em;color: #696969;}#sk-container-id-8 label.sk-toggleable__label-arrow:hover:before {color: black;}#sk-container-id-8 div.sk-estimator:hover label.sk-toggleable__label-arrow:before {color: black;}#sk-container-id-8 div.sk-toggleable__content {max-height: 0;max-width: 0;overflow: hidden;text-align: left;background-color: #f0f8ff;}#sk-container-id-8 div.sk-toggleable__content pre {margin: 0.2em;color: black;border-radius: 0.25em;background-color: #f0f8ff;}#sk-container-id-8 input.sk-toggleable__control:checked~div.sk-toggleable__content {max-height: 200px;max-width: 100%;overflow: auto;}#sk-container-id-8 input.sk-toggleable__control:checked~label.sk-toggleable__label-arrow:before {content: \"▾\";}#sk-container-id-8 div.sk-estimator input.sk-toggleable__control:checked~label.sk-toggleable__label {background-color: #d4ebff;}#sk-container-id-8 div.sk-label input.sk-toggleable__control:checked~label.sk-toggleable__label {background-color: #d4ebff;}#sk-container-id-8 input.sk-hidden--visually {border: 0;clip: rect(1px 1px 1px 1px);clip: rect(1px, 1px, 1px, 1px);height: 1px;margin: -1px;overflow: hidden;padding: 0;position: absolute;width: 1px;}#sk-container-id-8 div.sk-estimator {font-family: monospace;background-color: #f0f8ff;border: 1px dotted black;border-radius: 0.25em;box-sizing: border-box;margin-bottom: 0.5em;}#sk-container-id-8 div.sk-estimator:hover {background-color: #d4ebff;}#sk-container-id-8 div.sk-parallel-item::after {content: \"\";width: 100%;border-bottom: 1px solid gray;flex-grow: 1;}#sk-container-id-8 div.sk-label:hover label.sk-toggleable__label {background-color: #d4ebff;}#sk-container-id-8 div.sk-serial::before {content: \"\";position: absolute;border-left: 1px solid gray;box-sizing: border-box;top: 0;bottom: 0;left: 50%;z-index: 0;}#sk-container-id-8 div.sk-serial {display: flex;flex-direction: column;align-items: center;background-color: white;padding-right: 0.2em;padding-left: 0.2em;position: relative;}#sk-container-id-8 div.sk-item {position: relative;z-index: 1;}#sk-container-id-8 div.sk-parallel {display: flex;align-items: stretch;justify-content: center;background-color: white;position: relative;}#sk-container-id-8 div.sk-item::before, #sk-container-id-8 div.sk-parallel-item::before {content: \"\";position: absolute;border-left: 1px solid gray;box-sizing: border-box;top: 0;bottom: 0;left: 50%;z-index: -1;}#sk-container-id-8 div.sk-parallel-item {display: flex;flex-direction: column;z-index: 1;position: relative;background-color: white;}#sk-container-id-8 div.sk-parallel-item:first-child::after {align-self: flex-end;width: 50%;}#sk-container-id-8 div.sk-parallel-item:last-child::after {align-self: flex-start;width: 50%;}#sk-container-id-8 div.sk-parallel-item:only-child::after {width: 0;}#sk-container-id-8 div.sk-dashed-wrapped {border: 1px dashed gray;margin: 0 0.4em 0.5em 0.4em;box-sizing: border-box;padding-bottom: 0.4em;background-color: white;}#sk-container-id-8 div.sk-label label {font-family: monospace;font-weight: bold;display: inline-block;line-height: 1.2em;}#sk-container-id-8 div.sk-label-container {text-align: center;}#sk-container-id-8 div.sk-container {/* jupyter's `normalize.less` sets `[hidden] { display: none; }` but bootstrap.min.css set `[hidden] { display: none !important; }` so we also need the `!important` here to be able to override the default hidden behavior on the sphinx rendered scikit-learn.org. See: https://github.com/scikit-learn/scikit-learn/issues/21755 */display: inline-block !important;position: relative;}#sk-container-id-8 div.sk-text-repr-fallback {display: none;}</style><div id=\"sk-container-id-8\" class=\"sk-top-container\"><div class=\"sk-text-repr-fallback\"><pre>GaussianNB()</pre><b>In a Jupyter environment, please rerun this cell to show the HTML representation or trust the notebook. <br />On GitHub, the HTML representation is unable to render, please try loading this page with nbviewer.org.</b></div><div class=\"sk-container\" hidden><div class=\"sk-item\"><div class=\"sk-estimator sk-toggleable\"><input class=\"sk-toggleable__control sk-hidden--visually\" id=\"sk-estimator-id-8\" type=\"checkbox\" checked><label for=\"sk-estimator-id-8\" class=\"sk-toggleable__label sk-toggleable__label-arrow\">GaussianNB</label><div class=\"sk-toggleable__content\"><pre>GaussianNB()</pre></div></div></div></div></div>"
      ],
      "text/plain": [
       "GaussianNB()"
      ]
     },
     "execution_count": 344,
     "metadata": {},
     "output_type": "execute_result"
    }
   ],
   "source": [
    "# Fitting Naive Bayes to the Training set  \n",
    "from sklearn.naive_bayes import GaussianNB  \n",
    "classifier = GaussianNB()  \n",
    "classifier.fit(X_train, train_targets)  "
   ]
  },
  {
   "cell_type": "code",
   "execution_count": 345,
   "id": "b2a8f73c",
   "metadata": {},
   "outputs": [],
   "source": [
    "# Predicting the Test set results  \n",
    "y_pred = classifier.predict(X_test)  "
   ]
  },
  {
   "cell_type": "code",
   "execution_count": 346,
   "id": "07e30ea0",
   "metadata": {},
   "outputs": [],
   "source": [
    "from sklearn.metrics import confusion_matrix  \n",
    "cm = confusion_matrix(Y_test, y_pred)  "
   ]
  },
  {
   "cell_type": "code",
   "execution_count": 347,
   "id": "e530c2dc",
   "metadata": {},
   "outputs": [
    {
     "data": {
      "text/plain": [
       "array([[1052,  200],\n",
       "       [ 901,  410]], dtype=int64)"
      ]
     },
     "execution_count": 347,
     "metadata": {},
     "output_type": "execute_result"
    }
   ],
   "source": [
    "cm"
   ]
  },
  {
   "cell_type": "code",
   "execution_count": 348,
   "id": "bd9ee165",
   "metadata": {},
   "outputs": [
    {
     "data": {
      "text/plain": [
       "0.5704252828716349"
      ]
     },
     "execution_count": 348,
     "metadata": {},
     "output_type": "execute_result"
    }
   ],
   "source": [
    "accuracy_score(Y_test,y_pred)"
   ]
  },
  {
   "cell_type": "markdown",
   "id": "ea24ec8d",
   "metadata": {},
   "source": [
    "Applying K-FOLD"
   ]
  },
  {
   "cell_type": "code",
   "execution_count": 349,
   "id": "b7d382bb",
   "metadata": {},
   "outputs": [
    {
     "name": "stdout",
     "output_type": "stream",
     "text": [
      "Train RMSE: 0.6691017199436404, Validation RMSE: 0.6509394753325649\n",
      "Train RMSE: 0.6945419538874706, Validation RMSE: 0.7172460124048755\n",
      "Train RMSE: 0.6655599491091185, Validation RMSE: 0.7384288234111264\n",
      "Train RMSE: 0.6666585357425259, Validation RMSE: 0.6984984452838907\n",
      "Train RMSE: 0.6630630807388771, Validation RMSE: 0.6450435540124324\n",
      "RMSE of training  :  0.5753277752554524  Accuracy of Testing:  0.5486388915991804\n",
      "RMSE of Validation:  0.5475515011120173  Accuracy of validation:  0.5858704137392662\n",
      "RMSE of Testing   :  0.5669255718167168  Accuracy of Testing:  0.5595005852516582\n"
     ]
    }
   ],
   "source": [
    "def train_and_evaluate(X_train, train_targets, X_val, val_targets, **params):\n",
    "    model = GaussianNB()\n",
    "    model.fit(X_train, train_targets)\n",
    "    train_rmse = rmse(model.predict(X_train), train_targets)\n",
    "    val_rmse = rmse(model.predict(X_val), val_targets)\n",
    "    return model, train_rmse, val_rmse\n",
    "kfold = KFold(n_splits=5)\n",
    "models = []\n",
    "\n",
    "for train_idxs, val_idxs in kfold.split(X):\n",
    "    X_train, train_targets = X.iloc[train_idxs], targets.iloc[train_idxs]\n",
    "    X_val, val_targets = X.iloc[val_idxs], targets.iloc[val_idxs]\n",
    "    model, train_rmse, val_rmse = train_and_evaluate(X_train, \n",
    "                                                     train_targets, \n",
    "                                                     X_val, \n",
    "                                                     val_targets, \n",
    "                                                     max_depth=8, \n",
    "                                                     n_estimators=50)\n",
    "    models.append(model)\n",
    "    print('Train RMSE: {}, Validation RMSE: {}'.format(train_rmse, val_rmse))\n",
    "def predict_avg(models, inputs):\n",
    "    return np.mean([model.predict(inputs) for model in models], axis=0)\n",
    "train_preds = predict_avg(models, X_train)\n",
    "val_preds =predict_avg(models,X_val)\n",
    "test_preds = predict_avg(models, X_test)\n",
    "print(\"RMSE of training  : \",rmse(train_preds, train_targets),\" Accuracy of Testing: \",accuracy_score(train_targets,train_preds.round()))\n",
    "print(\"RMSE of Validation: \",rmse(val_preds, val_targets),\" Accuracy of validation: \",accuracy_score(val_targets,val_preds.round()))\n",
    "print(\"RMSE of Testing   : \",rmse(test_preds, Y_test),\" Accuracy of Testing: \",accuracy_score(Y_test,test_preds.round()))"
   ]
  },
  {
   "cell_type": "markdown",
   "id": "1c0d95f1",
   "metadata": {},
   "source": [
    "#### Calcualtin gf1-score,accuracy,precision"
   ]
  },
  {
   "cell_type": "code",
   "execution_count": 350,
   "id": "783f87db",
   "metadata": {},
   "outputs": [
    {
     "name": "stdout",
     "output_type": "stream",
     "text": [
      "Trainig Accuracy: 0.54864\n",
      "Test Accuracy: 0.55950\n"
     ]
    }
   ],
   "source": [
    "\n",
    "nbAccuracy=accuracy_score(Y_test,test_preds.round())\n",
    "nbPrecision=precision_score(Y_test,test_preds.round(), average='binary')\n",
    "nbF1_score=f1_score(Y_test,test_preds.round(), average='binary')\n",
    "nbRecall=recall_score(Y_test, test_preds.round(), average='binary')\n",
    "\n",
    "print(\"Trainig Accuracy: %.5f\" %accuracy_score(train_targets,train_preds.round()))\n",
    "print(\"Test Accuracy: %.5f\" %accuracy_score(Y_test, test_preds.round()))"
   ]
  },
  {
   "cell_type": "markdown",
   "id": "de0aee22",
   "metadata": {},
   "source": [
    "# DEEP LEARNING"
   ]
  },
  {
   "cell_type": "code",
   "execution_count": 352,
   "id": "76e976ad",
   "metadata": {},
   "outputs": [
    {
     "name": "stdout",
     "output_type": "stream",
     "text": [
      "Epoch 1/50\n",
      "257/257 [==============================] - 2s 5ms/step - loss: 0.6559 - accuracy: 0.6040 - auc: 0.6504 - val_loss: 0.7098 - val_accuracy: 0.5941 - val_auc: 0.5781\n",
      "Epoch 2/50\n",
      "257/257 [==============================] - 1s 3ms/step - loss: 0.6173 - accuracy: 0.6462 - auc: 0.7088 - val_loss: 0.8944 - val_accuracy: 0.5859 - val_auc: 0.5118\n",
      "Epoch 3/50\n",
      "257/257 [==============================] - 1s 4ms/step - loss: 0.6035 - accuracy: 0.6562 - auc: 0.7218 - val_loss: 1.0733 - val_accuracy: 0.5756 - val_auc: 0.4762\n",
      "Epoch 4/50\n",
      "257/257 [==============================] - 1s 3ms/step - loss: 0.5910 - accuracy: 0.6714 - auc: 0.7362 - val_loss: 1.2569 - val_accuracy: 0.5663 - val_auc: 0.4902\n",
      "Epoch 5/50\n",
      "257/257 [==============================] - 1s 3ms/step - loss: 0.5881 - accuracy: 0.6695 - auc: 0.7390 - val_loss: 1.3611 - val_accuracy: 0.5483 - val_auc: 0.4703\n",
      "Epoch 6/50\n",
      "257/257 [==============================] - 1s 3ms/step - loss: 0.5842 - accuracy: 0.6713 - auc: 0.7423 - val_loss: 1.4720 - val_accuracy: 0.5385 - val_auc: 0.4628\n",
      "Epoch 7/50\n",
      "257/257 [==============================] - 1s 3ms/step - loss: 0.5796 - accuracy: 0.6773 - auc: 0.7475 - val_loss: 1.6067 - val_accuracy: 0.5805 - val_auc: 0.4680\n",
      "Epoch 8/50\n",
      "257/257 [==============================] - 1s 4ms/step - loss: 0.5774 - accuracy: 0.6776 - auc: 0.7507 - val_loss: 1.7251 - val_accuracy: 0.5805 - val_auc: 0.4606\n",
      "Epoch 9/50\n",
      "257/257 [==============================] - 1s 3ms/step - loss: 0.5772 - accuracy: 0.6757 - auc: 0.7499 - val_loss: 1.7983 - val_accuracy: 0.5502 - val_auc: 0.4573\n",
      "Epoch 10/50\n",
      "257/257 [==============================] - 1s 3ms/step - loss: 0.5741 - accuracy: 0.6747 - auc: 0.7526 - val_loss: 1.8202 - val_accuracy: 0.5629 - val_auc: 0.4579\n",
      "Epoch 11/50\n",
      "257/257 [==============================] - 1s 3ms/step - loss: 0.5729 - accuracy: 0.6835 - auc: 0.7561 - val_loss: 1.8927 - val_accuracy: 0.5620 - val_auc: 0.4626\n",
      "Epoch 12/50\n",
      "257/257 [==============================] - 1s 3ms/step - loss: 0.5637 - accuracy: 0.6868 - auc: 0.7659 - val_loss: 1.9508 - val_accuracy: 0.5502 - val_auc: 0.4610\n",
      "Epoch 13/50\n",
      "257/257 [==============================] - 1s 3ms/step - loss: 0.5594 - accuracy: 0.6925 - auc: 0.7709 - val_loss: 1.9790 - val_accuracy: 0.5424 - val_auc: 0.4588\n",
      "Epoch 14/50\n",
      "257/257 [==============================] - 1s 3ms/step - loss: 0.5589 - accuracy: 0.6929 - auc: 0.7713 - val_loss: 1.9868 - val_accuracy: 0.5527 - val_auc: 0.4591\n",
      "Epoch 15/50\n",
      "257/257 [==============================] - 1s 3ms/step - loss: 0.5583 - accuracy: 0.6934 - auc: 0.7722 - val_loss: 2.0123 - val_accuracy: 0.5454 - val_auc: 0.4584\n",
      "Epoch 16/50\n",
      "257/257 [==============================] - 1s 3ms/step - loss: 0.5576 - accuracy: 0.6907 - auc: 0.7728 - val_loss: 2.0248 - val_accuracy: 0.5327 - val_auc: 0.4595\n",
      "Epoch 17/50\n",
      "257/257 [==============================] - 0s 1ms/step - loss: 0.5570 - accuracy: 0.6939 - auc: 0.7728 - val_loss: 2.0488 - val_accuracy: 0.5190 - val_auc: 0.4635\n",
      "Epoch 18/50\n",
      "257/257 [==============================] - 0s 1ms/step - loss: 0.5568 - accuracy: 0.6914 - auc: 0.7735 - val_loss: 2.0538 - val_accuracy: 0.5307 - val_auc: 0.4606\n",
      "Epoch 19/50\n",
      "257/257 [==============================] - 1s 3ms/step - loss: 0.5562 - accuracy: 0.6939 - auc: 0.7742 - val_loss: 2.0522 - val_accuracy: 0.5361 - val_auc: 0.4541\n",
      "Epoch 20/50\n",
      "257/257 [==============================] - 1s 3ms/step - loss: 0.5558 - accuracy: 0.6957 - auc: 0.7743 - val_loss: 2.0690 - val_accuracy: 0.5385 - val_auc: 0.4585\n",
      "Epoch 21/50\n",
      "257/257 [==============================] - 1s 2ms/step - loss: 0.5551 - accuracy: 0.6983 - auc: 0.7752 - val_loss: 2.0745 - val_accuracy: 0.5327 - val_auc: 0.4584\n",
      "Epoch 22/50\n",
      "257/257 [==============================] - 1s 2ms/step - loss: 0.5537 - accuracy: 0.6955 - auc: 0.7774 - val_loss: 2.0734 - val_accuracy: 0.5361 - val_auc: 0.4579\n",
      "Epoch 23/50\n",
      "257/257 [==============================] - 1s 2ms/step - loss: 0.5534 - accuracy: 0.6974 - auc: 0.7774 - val_loss: 2.0759 - val_accuracy: 0.5346 - val_auc: 0.4580\n",
      "Epoch 24/50\n",
      "257/257 [==============================] - 0s 2ms/step - loss: 0.5532 - accuracy: 0.6978 - auc: 0.7775 - val_loss: 2.0781 - val_accuracy: 0.5332 - val_auc: 0.4583\n",
      "Epoch 25/50\n",
      "257/257 [==============================] - 1s 2ms/step - loss: 0.5532 - accuracy: 0.6969 - auc: 0.7775 - val_loss: 2.0799 - val_accuracy: 0.5337 - val_auc: 0.4584\n",
      "Epoch 26/50\n",
      "257/257 [==============================] - 1s 2ms/step - loss: 0.5531 - accuracy: 0.6968 - auc: 0.7776 - val_loss: 2.0818 - val_accuracy: 0.5337 - val_auc: 0.4586\n",
      "Epoch 27/50\n",
      "257/257 [==============================] - 1s 2ms/step - loss: 0.5531 - accuracy: 0.6970 - auc: 0.7778 - val_loss: 2.0835 - val_accuracy: 0.5332 - val_auc: 0.4586\n",
      "Epoch 28/50\n",
      "257/257 [==============================] - 1s 2ms/step - loss: 0.5530 - accuracy: 0.6967 - auc: 0.7777 - val_loss: 2.0853 - val_accuracy: 0.5346 - val_auc: 0.4585\n",
      "Epoch 29/50\n",
      "257/257 [==============================] - 1s 3ms/step - loss: 0.5530 - accuracy: 0.6972 - auc: 0.7777 - val_loss: 2.0865 - val_accuracy: 0.5341 - val_auc: 0.4587\n",
      "Epoch 30/50\n",
      "257/257 [==============================] - 1s 2ms/step - loss: 0.5529 - accuracy: 0.6965 - auc: 0.7777 - val_loss: 2.0875 - val_accuracy: 0.5341 - val_auc: 0.4585\n",
      "Epoch 31/50\n",
      "257/257 [==============================] - 1s 3ms/step - loss: 0.5529 - accuracy: 0.6961 - auc: 0.7778 - val_loss: 2.0890 - val_accuracy: 0.5351 - val_auc: 0.4584\n",
      "Epoch 32/50\n",
      "257/257 [==============================] - 1s 3ms/step - loss: 0.5526 - accuracy: 0.6968 - auc: 0.7780 - val_loss: 2.0892 - val_accuracy: 0.5351 - val_auc: 0.4585\n",
      "Epoch 33/50\n",
      "257/257 [==============================] - 1s 3ms/step - loss: 0.5526 - accuracy: 0.6965 - auc: 0.7779 - val_loss: 2.0893 - val_accuracy: 0.5356 - val_auc: 0.4584\n",
      "Epoch 34/50\n",
      "257/257 [==============================] - 1s 3ms/step - loss: 0.5526 - accuracy: 0.6968 - auc: 0.7780 - val_loss: 2.0895 - val_accuracy: 0.5351 - val_auc: 0.4584\n",
      "Epoch 35/50\n",
      "257/257 [==============================] - 1s 3ms/step - loss: 0.5526 - accuracy: 0.6967 - auc: 0.7779 - val_loss: 2.0896 - val_accuracy: 0.5356 - val_auc: 0.4584\n",
      "Epoch 36/50\n",
      "257/257 [==============================] - 1s 3ms/step - loss: 0.5526 - accuracy: 0.6967 - auc: 0.7780 - val_loss: 2.0897 - val_accuracy: 0.5356 - val_auc: 0.4583\n",
      "Epoch 37/50\n",
      "257/257 [==============================] - 1s 3ms/step - loss: 0.5526 - accuracy: 0.6969 - auc: 0.7780 - val_loss: 2.0899 - val_accuracy: 0.5356 - val_auc: 0.4583\n",
      "Epoch 38/50\n",
      "257/257 [==============================] - 1s 4ms/step - loss: 0.5526 - accuracy: 0.6968 - auc: 0.7780 - val_loss: 2.0901 - val_accuracy: 0.5356 - val_auc: 0.4584\n",
      "Epoch 39/50\n",
      "257/257 [==============================] - 1s 3ms/step - loss: 0.5526 - accuracy: 0.6967 - auc: 0.7780 - val_loss: 2.0903 - val_accuracy: 0.5356 - val_auc: 0.4583\n",
      "Epoch 40/50\n",
      "257/257 [==============================] - 1s 4ms/step - loss: 0.5526 - accuracy: 0.6967 - auc: 0.7780 - val_loss: 2.0904 - val_accuracy: 0.5356 - val_auc: 0.4584\n",
      "Epoch 41/50\n",
      "257/257 [==============================] - 1s 3ms/step - loss: 0.5526 - accuracy: 0.6967 - auc: 0.7780 - val_loss: 2.0907 - val_accuracy: 0.5351 - val_auc: 0.4583\n",
      "Epoch 42/50\n",
      "257/257 [==============================] - 1s 3ms/step - loss: 0.5526 - accuracy: 0.6968 - auc: 0.7780 - val_loss: 2.0907 - val_accuracy: 0.5351 - val_auc: 0.4583\n",
      "Epoch 43/50\n",
      "257/257 [==============================] - 1s 3ms/step - loss: 0.5526 - accuracy: 0.6968 - auc: 0.7780 - val_loss: 2.0907 - val_accuracy: 0.5351 - val_auc: 0.4583\n",
      "Epoch 44/50\n",
      "257/257 [==============================] - 1s 4ms/step - loss: 0.5526 - accuracy: 0.6968 - auc: 0.7780 - val_loss: 2.0907 - val_accuracy: 0.5351 - val_auc: 0.4583\n",
      "Epoch 45/50\n",
      "257/257 [==============================] - 1s 3ms/step - loss: 0.5526 - accuracy: 0.6968 - auc: 0.7780 - val_loss: 2.0907 - val_accuracy: 0.5351 - val_auc: 0.4583\n",
      "Epoch 46/50\n",
      "257/257 [==============================] - 1s 3ms/step - loss: 0.5526 - accuracy: 0.6968 - auc: 0.7780 - val_loss: 2.0907 - val_accuracy: 0.5351 - val_auc: 0.4583\n",
      "Epoch 47/50\n",
      "257/257 [==============================] - 1s 3ms/step - loss: 0.5526 - accuracy: 0.6968 - auc: 0.7780 - val_loss: 2.0907 - val_accuracy: 0.5351 - val_auc: 0.4583\n"
     ]
    },
    {
     "name": "stdout",
     "output_type": "stream",
     "text": [
      "Epoch 48/50\n",
      "257/257 [==============================] - 1s 3ms/step - loss: 0.5526 - accuracy: 0.6968 - auc: 0.7780 - val_loss: 2.0908 - val_accuracy: 0.5351 - val_auc: 0.4583\n",
      "Epoch 49/50\n",
      "257/257 [==============================] - 1s 3ms/step - loss: 0.5526 - accuracy: 0.6968 - auc: 0.7780 - val_loss: 2.0908 - val_accuracy: 0.5351 - val_auc: 0.4583\n",
      "Epoch 50/50\n",
      "257/257 [==============================] - 1s 3ms/step - loss: 0.5526 - accuracy: 0.6968 - auc: 0.7780 - val_loss: 2.0908 - val_accuracy: 0.5351 - val_auc: 0.4583\n"
     ]
    }
   ],
   "source": [
    "inputs = tf.keras.Input(shape=(X_train.shape[1]))\n",
    "x = tf.keras.layers.Dense(256, activation='relu')(inputs)\n",
    "x = tf.keras.layers.Dense(256, activation='relu')(x)\n",
    "outputs = tf.keras.layers.Dense(1, activation='sigmoid')(x)\n",
    "\n",
    "model=tf.keras.Model(inputs,outputs)\n",
    "model.compile(optimizer='adam',\n",
    "             loss='binary_crossentropy',\n",
    "             metrics=['accuracy',tf.keras.metrics.AUC(name='auc')]\n",
    "             )\n",
    "batch_size=32\n",
    "epochs=50\n",
    "history=model.fit(\n",
    "            X_train,\n",
    "            train_targets,\n",
    "            validation_split=0.2,\n",
    "            batch_size=batch_size,\n",
    "            epochs=epochs,\n",
    "            callbacks=[tf.keras.callbacks.ReduceLROnPlateau()]\n",
    ")"
   ]
  },
  {
   "cell_type": "code",
   "execution_count": 353,
   "id": "8aba9050",
   "metadata": {},
   "outputs": [
    {
     "data": {
      "image/png": "[encoded data removed]",
      "text/plain": [
       "<Figure size 1152x720 with 1 Axes>"
      ]
     },
     "metadata": {
      "needs_background": "light"
     },
     "output_type": "display_data"
    }
   ],
   "source": [
    "plt.figure(figsize=(16, 10))\n",
    "\n",
    "plt.plot(range(epochs), history.history['loss'], label=\"Training Loss\")\n",
    "plt.plot(range(epochs), history.history['val_loss'], label=\"Validation Loss\")\n",
    "\n",
    "plt.xlabel(\"Epoch\")\n",
    "plt.ylabel(\"Loss\")\n",
    "plt.title(\"Loss Over Time\")\n",
    "plt.legend()\n",
    "\n",
    "plt.show()"
   ]
  },
  {
   "cell_type": "code",
   "execution_count": 354,
   "id": "8582617a",
   "metadata": {},
   "outputs": [
    {
     "name": "stdout",
     "output_type": "stream",
     "text": [
      "81/81 [==============================] - 0s 2ms/step - loss: 0.9116 - accuracy: 0.6348 - auc: 0.6782\n"
     ]
    }
   ],
   "source": [
    "model.evaluate(X_test, Y_test)\n",
    "y_true = np.array(Y_test)\n",
    "\n",
    "y_pred = np.squeeze(model.predict(X_test))\n",
    "y_pred = np.array(y_pred >= 0.5, dtype=np.int)"
   ]
  },
  {
   "cell_type": "code",
   "execution_count": 355,
   "id": "e157e439",
   "metadata": {},
   "outputs": [
    {
     "data": {
      "text/plain": [
       "array([1, 1, 0, ..., 1, 0, 0])"
      ]
     },
     "execution_count": 355,
     "metadata": {},
     "output_type": "execute_result"
    }
   ],
   "source": [
    "y_true = np.array(Y_test)\n",
    "\n",
    "y_pred = np.squeeze(model.predict(X_test))\n",
    "y_pred = np.array(y_pred >=0.5, dtype=np.int)\n",
    "y_pred"
   ]
  },
  {
   "cell_type": "code",
   "execution_count": 356,
   "id": "f2c27426",
   "metadata": {},
   "outputs": [
    {
     "data": {
      "image/png": "[encoded data removed]",
      "text/plain": [
       "<Figure size 288x288 with 1 Axes>"
      ]
     },
     "metadata": {
      "needs_background": "light"
     },
     "output_type": "display_data"
    }
   ],
   "source": [
    "cm = confusion_matrix(y_true, y_pred)\n",
    "\n",
    "plt.figure(figsize=(4, 4))\n",
    "\n",
    "sns.heatmap(cm, annot=True, fmt='g', vmin=0, cbar=False)\n",
    "\n",
    "plt.xlabel(\"Predicted\")\n",
    "plt.ylabel(\"Actual\")\n",
    "plt.title(\"Confusion Matrix\")\n",
    "\n",
    "plt.show()"
   ]
  },
  {
   "cell_type": "code",
   "execution_count": 357,
   "id": "c0241bf7",
   "metadata": {},
   "outputs": [
    {
     "name": "stdout",
     "output_type": "stream",
     "text": [
      "              precision    recall  f1-score   support\n",
      "\n",
      "           0       0.64      0.59      0.61      1252\n",
      "           1       0.63      0.67      0.65      1311\n",
      "\n",
      "    accuracy                           0.63      2563\n",
      "   macro avg       0.63      0.63      0.63      2563\n",
      "weighted avg       0.63      0.63      0.63      2563\n",
      "\n"
     ]
    }
   ],
   "source": [
    "print(classification_report(y_true, y_pred))"
   ]
  },
  {
   "cell_type": "code",
   "execution_count": 358,
   "id": "1701aebb",
   "metadata": {},
   "outputs": [
    {
     "data": {
      "text/plain": [
       "0.6348029652750683"
      ]
     },
     "execution_count": 358,
     "metadata": {},
     "output_type": "execute_result"
    }
   ],
   "source": [
    "accuracy_score(Y_test,y_pred)"
   ]
  },
  {
   "cell_type": "markdown",
   "id": "1677e435",
   "metadata": {},
   "source": [
    "#### calculating f1-score,precision,accuracy"
   ]
  },
  {
   "cell_type": "code",
   "execution_count": 359,
   "id": "33b98d98",
   "metadata": {},
   "outputs": [
    {
     "name": "stdout",
     "output_type": "stream",
     "text": [
      "Test Accuracy: 0.63480\n"
     ]
    }
   ],
   "source": [
    "DLAccuracy=accuracy_score(Y_test,y_pred)\n",
    "DLPrecision=precision_score(Y_test,y_pred, average='binary')\n",
    "DLF1_score=f1_score(Y_test,y_pred, average='binary')\n",
    "DLRecall=recall_score(Y_test,y_pred, average='binary')\n",
    "\n",
    "print(\"Test Accuracy: %.5f\" %accuracy_score(Y_test,y_pred))"
   ]
  },
  {
   "cell_type": "code",
   "execution_count": null,
   "id": "cc8ccac8",
   "metadata": {},
   "outputs": [],
   "source": []
  },
  {
   "cell_type": "markdown",
   "id": "64149d19",
   "metadata": {},
   "source": [
    "# Performance Evaluation"
   ]
  },
  {
   "cell_type": "code",
   "execution_count": 360,
   "id": "8daa2f62",
   "metadata": {},
   "outputs": [
    {
     "data": {
      "text/html": [
       "<style type=\"text/css\">\n",
       "#T_2e167_ th:not(.index_name) {\n",
       "  color: darkblue;\n",
       "}\n",
       "#T_2e167_row0_col0, #T_2e167_row0_col1, #T_2e167_row0_col2, #T_2e167_row0_col3, #T_2e167_row0_col4, #T_2e167_row0_col5, #T_2e167_row0_col6, #T_2e167_row1_col0, #T_2e167_row1_col1, #T_2e167_row1_col2, #T_2e167_row1_col3, #T_2e167_row1_col4, #T_2e167_row1_col5, #T_2e167_row1_col6, #T_2e167_row2_col0, #T_2e167_row2_col1, #T_2e167_row2_col2, #T_2e167_row2_col3, #T_2e167_row2_col4, #T_2e167_row2_col5, #T_2e167_row2_col6, #T_2e167_row3_col0, #T_2e167_row3_col1, #T_2e167_row3_col2, #T_2e167_row3_col3, #T_2e167_row3_col4, #T_2e167_row3_col5, #T_2e167_row3_col6 {\n",
       "  background-color: pink;\n",
       "  color: black;\n",
       "  border: 1.3px solid black;\n",
       "}\n",
       "</style>\n",
       "<table id=\"T_2e167_\">\n",
       "  <caption>RESULTS</caption>\n",
       "  <thead>\n",
       "    <tr>\n",
       "      <th class=\"blank level0\" >&nbsp;</th>\n",
       "      <th class=\"col_heading level0 col0\" >XG boost classifier</th>\n",
       "      <th class=\"col_heading level0 col1\" >Decision Tree Classifier</th>\n",
       "      <th class=\"col_heading level0 col2\" >Random Forest</th>\n",
       "      <th class=\"col_heading level0 col3\" > KNN classifier</th>\n",
       "      <th class=\"col_heading level0 col4\" > Naive bayes classifier</th>\n",
       "      <th class=\"col_heading level0 col5\" >Deep learning</th>\n",
       "      <th class=\"col_heading level0 col6\" >Best Score</th>\n",
       "    </tr>\n",
       "  </thead>\n",
       "  <tbody>\n",
       "    <tr>\n",
       "      <th id=\"T_2e167_level0_row0\" class=\"row_heading level0 row0\" >Accuracy</th>\n",
       "      <td id=\"T_2e167_row0_col0\" class=\"data row0 col0\" >0.950449</td>\n",
       "      <td id=\"T_2e167_row0_col1\" class=\"data row0 col1\" >0.827546</td>\n",
       "      <td id=\"T_2e167_row0_col2\" class=\"data row0 col2\" >0.964495</td>\n",
       "      <td id=\"T_2e167_row0_col3\" class=\"data row0 col3\" >0.809598</td>\n",
       "      <td id=\"T_2e167_row0_col4\" class=\"data row0 col4\" >0.559501</td>\n",
       "      <td id=\"T_2e167_row0_col5\" class=\"data row0 col5\" >0.634803</td>\n",
       "      <td id=\"T_2e167_row0_col6\" class=\"data row0 col6\" >Random Forest</td>\n",
       "    </tr>\n",
       "    <tr>\n",
       "      <th id=\"T_2e167_level0_row1\" class=\"row_heading level0 row1\" >Precision</th>\n",
       "      <td id=\"T_2e167_row1_col0\" class=\"data row1 col0\" >0.945783</td>\n",
       "      <td id=\"T_2e167_row1_col1\" class=\"data row1 col1\" >0.827430</td>\n",
       "      <td id=\"T_2e167_row1_col2\" class=\"data row1 col2\" >0.959337</td>\n",
       "      <td id=\"T_2e167_row1_col3\" class=\"data row1 col3\" >0.812928</td>\n",
       "      <td id=\"T_2e167_row1_col4\" class=\"data row1 col4\" >0.671053</td>\n",
       "      <td id=\"T_2e167_row1_col5\" class=\"data row1 col5\" >0.634602</td>\n",
       "      <td id=\"T_2e167_row1_col6\" class=\"data row1 col6\" >Random Forest</td>\n",
       "    </tr>\n",
       "    <tr>\n",
       "      <th id=\"T_2e167_level0_row2\" class=\"row_heading level0 row2\" >Recall</th>\n",
       "      <td id=\"T_2e167_row2_col0\" class=\"data row2 col0\" >0.951876</td>\n",
       "      <td id=\"T_2e167_row2_col1\" class=\"data row2 col1\" >0.832449</td>\n",
       "      <td id=\"T_2e167_row2_col2\" class=\"data row2 col2\" >0.965517</td>\n",
       "      <td id=\"T_2e167_row2_col3\" class=\"data row2 col3\" >0.814166</td>\n",
       "      <td id=\"T_2e167_row2_col4\" class=\"data row2 col4\" >0.387412</td>\n",
       "      <td id=\"T_2e167_row2_col5\" class=\"data row2 col5\" >0.653846</td>\n",
       "      <td id=\"T_2e167_row2_col6\" class=\"data row2 col6\" >Random Forest</td>\n",
       "    </tr>\n",
       "    <tr>\n",
       "      <th id=\"T_2e167_level0_row3\" class=\"row_heading level0 row3\" >F1 Score</th>\n",
       "      <td id=\"T_2e167_row3_col0\" class=\"data row3 col0\" >0.958047</td>\n",
       "      <td id=\"T_2e167_row3_col1\" class=\"data row3 col1\" >0.837529</td>\n",
       "      <td id=\"T_2e167_row3_col2\" class=\"data row3 col2\" >0.971777</td>\n",
       "      <td id=\"T_2e167_row3_col3\" class=\"data row3 col3\" >0.815408</td>\n",
       "      <td id=\"T_2e167_row3_col4\" class=\"data row3 col4\" >0.272311</td>\n",
       "      <td id=\"T_2e167_row3_col5\" class=\"data row3 col5\" >0.272311</td>\n",
       "      <td id=\"T_2e167_row3_col6\" class=\"data row3 col6\" >Random Forest</td>\n",
       "    </tr>\n",
       "  </tbody>\n",
       "</table>\n"
      ],
      "text/plain": [
       "<pandas.io.formats.style.Styler at 0x12635538a00>"
      ]
     },
     "execution_count": 360,
     "metadata": {},
     "output_type": "execute_result"
    }
   ],
   "source": [
    "models_scores_table = pd.DataFrame({'XG boost classifier':[gbAccuracy,gbPrecision,gbF1_score,gbRecall],\n",
    "                                       \n",
    "                                      'Decision Tree Classifier':[dtAccuracy,dtPrecision,dtF1_score,dtRecall],\n",
    "                                       \n",
    "                                                              \n",
    "                                      'Random Forest':[rfAccuracy,rfPrecision,rfF1_score,rfRecall],                                       \n",
    "                                                                            \n",
    "                                      ' KNN classifier':[KnAccuracy,KnPrecision,KnF1_score,KnRecall],\n",
    "                                    \n",
    "                                      ' Naive bayes classifier':[nbAccuracy,nbPrecision,nbF1_score,nbRecall],\n",
    "                                    \n",
    "                                      'Deep learning':[DLAccuracy,DLPrecision,DLF1_score,nbRecall],\n",
    "                                   },\n",
    "                                       \n",
    "                                      \n",
    "                                      index=['Accuracy', 'Precision', 'Recall', 'F1 Score'])\n",
    "models_scores_table['Best Score'] = models_scores_table.idxmax(axis=1)\n",
    "\n",
    "table=models_scores_table.style.set_properties(**{'background-color': 'pink', 'color':'black', 'border':'1.3px solid black'}).set_caption(\"RESULTS\") \n",
    "headers={'selector':'th:not(.index_name)','props':'color: darkblue;'}\n",
    "table.set_table_styles([headers])\n",
    "table"
   ]
  }
 ],
 "metadata": {
  "kernelspec": {
   "display_name": "Python 3 (ipykernel)",
   "language": "python",
   "name": "python3"
  },
  "language_info": {
   "codemirror_mode": {
    "name": "ipython",
    "version": 3
   },
   "file_extension": ".py",
   "mimetype": "text/x-python",
   "name": "python",
   "nbconvert_exporter": "python",
   "pygments_lexer": "ipython3",
   "version": "3.8.10"
  }
 },
 "nbformat": 4,
 "nbformat_minor": 5
}
